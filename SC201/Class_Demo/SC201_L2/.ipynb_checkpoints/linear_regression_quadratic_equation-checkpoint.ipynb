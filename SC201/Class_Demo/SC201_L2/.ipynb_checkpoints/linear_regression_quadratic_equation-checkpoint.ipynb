{
 "cells": [
  {
   "cell_type": "code",
   "execution_count": 1,
   "metadata": {},
   "outputs": [],
   "source": [
    "#  File: linear_regression_quadratic_equation.ipynb\n",
    "#  ----------------------------\n",
    "#  This file shows student the fundamental concepts of \n",
    "#  machine learing:\n",
    "#      - loss function\n",
    "#      - cost function\n",
    "#      - linear regression\n",
    "#      - polynomial function\n",
    "#      - training process"
   ]
  },
  {
   "cell_type": "code",
   "execution_count": 2,
   "metadata": {},
   "outputs": [],
   "source": [
    "import matplotlib.pyplot as plt\n",
    "import numpy as np"
   ]
  },
  {
   "cell_type": "code",
   "execution_count": 3,
   "metadata": {},
   "outputs": [],
   "source": [
    "# This function computes the L2 loss of all data with respect to \n",
    "# the hypothesis function \n",
    "# y = theta_prime*x^2+theta*x+b\n",
    "# ----------------------------------------\n",
    "# ∑ [(theta_prime*x_i^2+theta*x_i+b - y_i)^2] / 2*m \n",
    "# ----------------------------------------\n",
    "\n",
    "# theta_prime: float, parameter of x^2 of the line\n",
    "# theta: float, parameter of x of the line\n",
    "# b: float, parameter of the line\n",
    "# x_list: list, containing 21 data points\n",
    "# y_list: list, containing 21 data points\n",
    "# return: float, the sum over all L2 loss of data points\n",
    "\n",
    "def cost_function(theta_prime, theta, b, x, y):\n",
    "    return sum( (theta*x[i]**2+theta*x[i]+b-y[i])**2 for i in range(len(x)) )/(2*len(x)) "
   ]
  },
  {
   "cell_type": "code",
   "execution_count": 4,
   "metadata": {},
   "outputs": [
    {
     "name": "stdout",
     "output_type": "stream",
     "text": [
      "2.4583333333333335\n"
     ]
    }
   ],
   "source": [
    "# You should see 2.4583333333333335  \n",
    "print(cost_function(0.5, 0.5, 0.5, [1, 2, 3], [1, 2, 3]))"
   ]
  },
  {
   "cell_type": "code",
   "execution_count": 5,
   "metadata": {},
   "outputs": [],
   "source": [
    "# This function computes the derivative of J with respect to theta_prime which is \n",
    "# ----------------------------------------\n",
    "# ∑ ((theta_prime*(x**2)+theta*x+b)-y)*(x**2) / m\n",
    "# ----------------------------------------\n",
    "\n",
    "# theta_prime: float, parameter of x^2 of the line\n",
    "# theta: float, parameter of x of the line\n",
    "# b: float, parameter of the line\n",
    "# x_list: list, containing 21 data points\n",
    "# y_list: list, containing 21 data points\n",
    "# return: float, the derivative of J with respect to theta_prime\n",
    "\n",
    "def dJ_dtheta_prime(theta_prime, theta, b, x, y):\n",
    "    return sum( (theta*x[i]**2+theta*x[i]+b-y[i])*x[i]**2 for i in range(len(x)) )/len(x)  "
   ]
  },
  {
   "cell_type": "code",
   "execution_count": 6,
   "metadata": {},
   "outputs": [
    {
     "name": "stdout",
     "output_type": "stream",
     "text": [
      "12.666666666666666\n"
     ]
    }
   ],
   "source": [
    "# You should see 12.666666666666666\n",
    "print(dJ_dtheta_prime(0.5, 0.5, 0.5, [1, 2, 3], [1, 2, 3]))"
   ]
  },
  {
   "cell_type": "code",
   "execution_count": 7,
   "metadata": {},
   "outputs": [],
   "source": [
    "# This function computes the derivative of J with respect to theta which is \n",
    "# ----------------------------------------\n",
    "# ∑ ((theta_prime*(x**2)+theta*x+b)-y)*(x) / m\n",
    "# ----------------------------------------\n",
    "\n",
    "# theta_prime: float, parameter of x^2 of the line\n",
    "# theta: float, parameter of x of the line\n",
    "# b: float, parameter of the line\n",
    "# x_list: list, containing 21 data points\n",
    "# y_list: list, containing 21 data points\n",
    "# return: float, the derivative of J with respect to theta\n",
    "\n",
    "def dJ_dtheta(theta_prime, theta, b, x, y):\n",
    "    return sum( (theta*x[i]**2+theta*x[i]+b-y[i])*x[i] for i in range(len(x)) )/len(x)   "
   ]
  },
  {
   "cell_type": "code",
   "execution_count": 8,
   "metadata": {},
   "outputs": [
    {
     "name": "stdout",
     "output_type": "stream",
     "text": [
      "4.666666666666667\n"
     ]
    }
   ],
   "source": [
    "# You should see 4.666666666666667\n",
    "print(dJ_dtheta(0.5, 0.5, 0.5, [1, 2, 3], [1, 2, 3]))"
   ]
  },
  {
   "cell_type": "code",
   "execution_count": null,
   "metadata": {},
   "outputs": [],
   "source": []
  },
  {
   "cell_type": "code",
   "execution_count": 9,
   "metadata": {},
   "outputs": [],
   "source": [
    "# This function computes the derivative of J with respect to b which is \n",
    "# ----------------------------------------\n",
    "# ∑ ((theta_prime*(x**2)+theta*x+b)-y) / m\n",
    "# ----------------------------------------\n",
    "\n",
    "# theta_prime: float, parameter of x^2 of the line\n",
    "# theta: float, parameter of x of the line\n",
    "# b: float, parameter of the line\n",
    "# x_list: list, containing 21 data points\n",
    "# y_list: list, containing 21 data points\n",
    "# return: float, the derivative of J with respect to b\n",
    "\n",
    "def dJ_db(theta_prime, theta, b, x, y):\n",
    "    return sum( (theta*x[i]**2+theta*x[i]+b-y[i]) for i in range(len(x)) )/len(x)   "
   ]
  },
  {
   "cell_type": "code",
   "execution_count": 10,
   "metadata": {},
   "outputs": [
    {
     "name": "stdout",
     "output_type": "stream",
     "text": [
      "1.8333333333333333\n"
     ]
    }
   ],
   "source": [
    "# You should see 1.8333333333333333\n",
    "print(dJ_db(0.5, 0.5, 0.5, [1, 2, 3], [1, 2, 3]))"
   ]
  },
  {
   "cell_type": "code",
   "execution_count": 11,
   "metadata": {},
   "outputs": [],
   "source": [
    "# ---------- DO NOT EDIT THE CODE BELOW THIS LINE ---------- #"
   ]
  },
  {
   "cell_type": "code",
   "execution_count": 12,
   "metadata": {},
   "outputs": [],
   "source": [
    "x = [6.1101,5.5277,8.5186,7.0032,5.8598,8.3829,7.4764,8.5781,6.4862,5.0546,5.7107,10.164,5.734,8.4084,5.6407,5.3794,6.3654,5.1301,6.4296,7.0708,6.1891]"
   ]
  },
  {
   "cell_type": "code",
   "execution_count": 13,
   "metadata": {},
   "outputs": [],
   "source": [
    "y = [6.592,9.1302,13.662,11.854,6.8233,11.886,4.3483,12,6.5987,3.8166,3.2522,15.505,3.1551,7.2258,0.71618,3.5129,5.3048,0.56077,3.6518,5.3893,3.1386]"
   ]
  },
  {
   "cell_type": "code",
   "execution_count": 14,
   "metadata": {},
   "outputs": [],
   "source": [
    "# ---------- Showing your data ---------- #"
   ]
  },
  {
   "cell_type": "code",
   "execution_count": 15,
   "metadata": {},
   "outputs": [
    {
     "data": {
      "text/plain": [
       "(0.0, 30.0)"
      ]
     },
     "execution_count": 15,
     "metadata": {},
     "output_type": "execute_result"
    },
    {
     "data": {
      "image/png": "[encoded data removed]",
      "text/plain": [
       "<Figure size 432x288 with 1 Axes>"
      ]
     },
     "metadata": {
      "needs_background": "light"
     },
     "output_type": "display_data"
    }
   ],
   "source": [
    "plt.scatter(x, y)\n",
    "axes = plt.gca()\n",
    "axes.set_xlim([0,12])\n",
    "axes.set_ylim([0,30])"
   ]
  },
  {
   "cell_type": "code",
   "execution_count": 16,
   "metadata": {},
   "outputs": [],
   "source": [
    "# ---------- Initialize your theta ---------- #"
   ]
  },
  {
   "cell_type": "code",
   "execution_count": 17,
   "metadata": {},
   "outputs": [],
   "source": [
    "theta_prime = 0.5\n",
    "theta = -0.5\n",
    "b = - 0.5"
   ]
  },
  {
   "cell_type": "code",
   "execution_count": 18,
   "metadata": {},
   "outputs": [],
   "source": [
    "# ---------- Initialize your alpha ---------- #"
   ]
  },
  {
   "cell_type": "code",
   "execution_count": 19,
   "metadata": {},
   "outputs": [],
   "source": [
    "# TODO: which value is appropriate for an ideal alpha?"
   ]
  },
  {
   "cell_type": "code",
   "execution_count": 20,
   "metadata": {},
   "outputs": [],
   "source": [
    "alpha = 0.001"
   ]
  },
  {
   "cell_type": "code",
   "execution_count": 21,
   "metadata": {},
   "outputs": [],
   "source": [
    "# ---------- Training process ---------- #\n",
    "# ---- 11 iterations over all data ----- #"
   ]
  },
  {
   "cell_type": "code",
   "execution_count": 22,
   "metadata": {},
   "outputs": [],
   "source": [
    "theta_prime_history = []\n",
    "theta_history = []\n",
    "b_history = []\n",
    "cost_history = []\n",
    "for i in range(11):\n",
    "    theta_prime_history.append(theta_prime)\n",
    "    theta_history.append(theta)\n",
    "    b_history.append(b)\n",
    "    cost = cost_function(theta_prime, theta, b, x, y)\n",
    "    cost_history.append(cost)\n",
    "    \n",
    "    # Steeptest decscent\n",
    "    temp_theta_prime = theta_prime\n",
    "    temp_theta = theta\n",
    "    temp_b = b\n",
    "    \n",
    "    theta_prime = theta_prime - alpha * dJ_dtheta_prime(temp_theta_prime, temp_theta, temp_b, x, y)\n",
    "    theta = theta - alpha * dJ_dtheta(temp_theta_prime, temp_theta, temp_b, x, y)\n",
    "    b = b - alpha * dJ_db(temp_theta_prime, temp_theta, temp_b, x, y)"
   ]
  },
  {
   "cell_type": "code",
   "execution_count": 23,
   "metadata": {},
   "outputs": [],
   "source": [
    "# ---------- Theta changes during training process ---------- #"
   ]
  },
  {
   "cell_type": "code",
   "execution_count": 24,
   "metadata": {},
   "outputs": [
    {
     "name": "stdout",
     "output_type": "stream",
     "text": [
      "[676.747949458733, 253.83057265779757, 96.65837014828409, 38.16998955874409, 16.35783033580488, 8.19491122699296, 5.122795176508693, 3.9561913488787077, 3.506934267817322, 3.330204996658301, 3.258497568318487]\n"
     ]
    }
   ],
   "source": [
    "print(cost_history)"
   ]
  },
  {
   "cell_type": "code",
   "execution_count": 25,
   "metadata": {},
   "outputs": [
    {
     "data": {
      "text/plain": [
       "Text(0.5, 1.0, 'Errors over iterations')"
      ]
     },
     "execution_count": 25,
     "metadata": {},
     "output_type": "execute_result"
    },
    {
     "data": {
      "image/png": "[encoded data removed]",
      "text/plain": [
       "<Figure size 432x288 with 1 Axes>"
      ]
     },
     "metadata": {
      "needs_background": "light"
     },
     "output_type": "display_data"
    }
   ],
   "source": [
    "cost_x = list(range(len(cost_history)))\n",
    "cost_y = cost_history\n",
    "plt.plot(cost_x, cost_y)\n",
    "plt.title(\"Errors over iterations\", color = 'blue')"
   ]
  },
  {
   "cell_type": "code",
   "execution_count": null,
   "metadata": {},
   "outputs": [],
   "source": []
  },
  {
   "cell_type": "code",
   "execution_count": 26,
   "metadata": {},
   "outputs": [],
   "source": [
    "# ----------------- Normaliza Your Data ----------------- #"
   ]
  },
  {
   "cell_type": "code",
   "execution_count": 27,
   "metadata": {},
   "outputs": [],
   "source": [
    "x_max = max(x)\n",
    "x_min = min(x)\n",
    "x = list( (x[i]-x_min)/(x_max-x_min) for i in range(len(x)))"
   ]
  },
  {
   "cell_type": "code",
   "execution_count": 28,
   "metadata": {},
   "outputs": [],
   "source": [
    "y_max = max(y)\n",
    "y_min = min(y)\n",
    "y = list( (y[i]-y_min)/(y_max-y_min) for i in range(len(y)))"
   ]
  },
  {
   "cell_type": "code",
   "execution_count": 29,
   "metadata": {},
   "outputs": [],
   "source": [
    "# ---------- Showing your data ---------- #"
   ]
  },
  {
   "cell_type": "code",
   "execution_count": 30,
   "metadata": {},
   "outputs": [
    {
     "data": {
      "text/plain": [
       "(0.0, 1.8)"
      ]
     },
     "execution_count": 30,
     "metadata": {},
     "output_type": "execute_result"
    },
    {
     "data": {
      "image/png": "[encoded data removed]",
      "text/plain": [
       "<Figure size 432x288 with 1 Axes>"
      ]
     },
     "metadata": {
      "needs_background": "light"
     },
     "output_type": "display_data"
    }
   ],
   "source": [
    "plt.scatter(x, y)\n",
    "axes = plt.gca()\n",
    "axes.set_xlim([-1,1.5])\n",
    "axes.set_ylim([0,1.8])"
   ]
  },
  {
   "cell_type": "code",
   "execution_count": 31,
   "metadata": {},
   "outputs": [],
   "source": [
    "# ---------- Initialize your theta ---------- #"
   ]
  },
  {
   "cell_type": "code",
   "execution_count": 32,
   "metadata": {},
   "outputs": [],
   "source": [
    "theta_prime = 0.5\n",
    "theta = -0.5\n",
    "b = - 0.5"
   ]
  },
  {
   "cell_type": "code",
   "execution_count": 33,
   "metadata": {},
   "outputs": [],
   "source": [
    "# ---------- Initialize your alpha ---------- #"
   ]
  },
  {
   "cell_type": "code",
   "execution_count": 34,
   "metadata": {},
   "outputs": [],
   "source": [
    "alpha = 0.01"
   ]
  },
  {
   "cell_type": "code",
   "execution_count": 35,
   "metadata": {},
   "outputs": [],
   "source": [
    "# ---------- Training process ---------- #\n",
    "# ---- 11 iterations over all data ----- #"
   ]
  },
  {
   "cell_type": "code",
   "execution_count": 36,
   "metadata": {},
   "outputs": [],
   "source": [
    "theta_prime_history = []\n",
    "theta_history = []\n",
    "b_history = []\n",
    "cost_history = []\n",
    "for i in range(11):\n",
    "    theta_prime_history.append(theta_prime)\n",
    "    theta_history.append(theta)\n",
    "    b_history.append(b)\n",
    "    cost = cost_function(theta_prime, theta, b, x, y)\n",
    "    cost_history.append(cost)\n",
    "    \n",
    "    # Steeptest decscent\n",
    "    temp_theta_prime = theta_prime\n",
    "    temp_theta = theta\n",
    "    temp_b = b\n",
    "    \n",
    "    theta_prime = theta_prime - alpha * dJ_dtheta_prime(temp_theta_prime, temp_theta, temp_b, x, y)\n",
    "    theta = theta - alpha * dJ_dtheta(temp_theta_prime, temp_theta, temp_b, x, y)\n",
    "    b = b - alpha * dJ_db(temp_theta_prime, temp_theta, temp_b, x, y)"
   ]
  },
  {
   "cell_type": "code",
   "execution_count": 37,
   "metadata": {},
   "outputs": [],
   "source": [
    "# ---------- Theta changes during training process ---------- #"
   ]
  },
  {
   "cell_type": "code",
   "execution_count": 38,
   "metadata": {},
   "outputs": [
    {
     "name": "stdout",
     "output_type": "stream",
     "text": [
      "[0.792488149091603, 0.7751489857221614, 0.7582149359848712, 0.7416764773718398, 0.7255243115005472, 0.7097493588359781, 0.6943427535370779, 0.6792958384245942, 0.6646001600674575, 0.6502474639848961, 0.6362296899615667]\n"
     ]
    }
   ],
   "source": [
    "print(cost_history)"
   ]
  },
  {
   "cell_type": "code",
   "execution_count": null,
   "metadata": {},
   "outputs": [],
   "source": []
  },
  {
   "cell_type": "code",
   "execution_count": 39,
   "metadata": {},
   "outputs": [
    {
     "data": {
      "text/plain": [
       "Text(0.5, 1.0, 'Errors over iterations')"
      ]
     },
     "execution_count": 39,
     "metadata": {},
     "output_type": "execute_result"
    },
    {
     "data": {
      "image/png": "[encoded data removed]",
      "text/plain": [
       "<Figure size 432x288 with 1 Axes>"
      ]
     },
     "metadata": {
      "needs_background": "light"
     },
     "output_type": "display_data"
    }
   ],
   "source": [
    "cost_x = list(range(len(cost_history)))\n",
    "cost_y = cost_history\n",
    "plt.plot(cost_x, cost_y)\n",
    "plt.title(\"Errors over iterations\", color = 'blue')"
   ]
  },
  {
   "cell_type": "code",
   "execution_count": 40,
   "metadata": {},
   "outputs": [
    {
     "name": "stdout",
     "output_type": "stream",
     "text": [
      "theta_prime: 0.5, theta: -0.5, b: -0.5\n"
     ]
    },
    {
     "data": {
      "image/png": "[encoded data removed]",
      "text/plain": [
       "<Figure size 432x288 with 1 Axes>"
      ]
     },
     "metadata": {
      "needs_background": "light"
     },
     "output_type": "display_data"
    }
   ],
   "source": [
    "theta_prime = theta_prime_history[0]\n",
    "theta = theta_history[0]\n",
    "b = b_history[0]\n",
    "\n",
    "print(f'theta_prime: {theta_prime}, theta: {theta}, b: {b}')\n",
    "\n",
    "x_plot = np.linspace(-1, 1.5, 100)\n",
    "y_plot = theta_prime*(x_plot**2)+theta*(x_plot)+b\n",
    "\n",
    "\n",
    "plt.scatter(x_plot, y_plot, color='red')\n",
    "plt.scatter(x, y, color='blue')\n",
    "\n",
    "\n",
    "# show the plot\n",
    "plt.title(\"0 iterations\", color='red', fontdict = {'fontsize': 20})\n",
    "plt.show()"
   ]
  },
  {
   "cell_type": "code",
   "execution_count": 41,
   "metadata": {},
   "outputs": [
    {
     "name": "stdout",
     "output_type": "stream",
     "text": [
      "theta_prime: 0.5031830154728816, theta: -0.49498172523667167, b: -0.4884562932334048\n"
     ]
    },
    {
     "data": {
      "image/png": "[encoded data removed]",
      "text/plain": [
       "<Figure size 432x288 with 1 Axes>"
      ]
     },
     "metadata": {
      "needs_background": "light"
     },
     "output_type": "display_data"
    }
   ],
   "source": [
    "theta_prime = theta_prime_history[1]\n",
    "theta = theta_history[1]\n",
    "b = b_history[1]\n",
    "\n",
    "print(f'theta_prime: {theta_prime}, theta: {theta}, b: {b}')\n",
    "\n",
    "x_plot = np.linspace(-1, 1.5, 100)\n",
    "y_plot = theta_prime*(x_plot**2)+theta*(x_plot)+b\n",
    "\n",
    "\n",
    "plt.scatter(x_plot, y_plot, color='red')\n",
    "plt.scatter(x, y, color='blue')\n",
    "\n",
    "\n",
    "# show the plot\n",
    "plt.title(\"1 iterations\", color='red', fontdict = {'fontsize': 20})\n",
    "plt.show()"
   ]
  },
  {
   "cell_type": "code",
   "execution_count": 42,
   "metadata": {},
   "outputs": [
    {
     "name": "stdout",
     "output_type": "stream",
     "text": [
      "theta_prime: 0.5063350470802881, theta: -0.4900160509255303, b: -0.4770532926573382\n"
     ]
    },
    {
     "data": {
      "image/png": "[encoded data removed]",
      "text/plain": [
       "<Figure size 432x288 with 1 Axes>"
      ]
     },
     "metadata": {
      "needs_background": "light"
     },
     "output_type": "display_data"
    }
   ],
   "source": [
    "theta_prime = theta_prime_history[2]\n",
    "theta = theta_history[2]\n",
    "b = b_history[2]\n",
    "\n",
    "print(f'theta_prime: {theta_prime}, theta: {theta}, b: {b}')\n",
    "\n",
    "x_plot = np.linspace(-1, 1.5, 100)\n",
    "y_plot = theta_prime*(x_plot**2)+theta*(x_plot)+b\n",
    "\n",
    "\n",
    "plt.scatter(x_plot, y_plot, color='red')\n",
    "plt.scatter(x, y, color='blue')\n",
    "\n",
    "\n",
    "# show the plot\n",
    "plt.title(\"2 iterations\", color='red', fontdict = {'fontsize': 20})\n",
    "plt.show()"
   ]
  },
  {
   "cell_type": "code",
   "execution_count": 43,
   "metadata": {},
   "outputs": [
    {
     "name": "stdout",
     "output_type": "stream",
     "text": [
      "theta_prime: 0.5094564544044409, theta: -0.4851023613003383, b: -0.4657893263445077\n"
     ]
    },
    {
     "data": {
      "image/png": "[encoded data removed]",
      "text/plain": [
       "<Figure size 432x288 with 1 Axes>"
      ]
     },
     "metadata": {
      "needs_background": "light"
     },
     "output_type": "display_data"
    }
   ],
   "source": [
    "theta_prime = theta_prime_history[3]\n",
    "theta = theta_history[3]\n",
    "b = b_history[3]\n",
    "\n",
    "print(f'theta_prime: {theta_prime}, theta: {theta}, b: {b}')\n",
    "\n",
    "x_plot = np.linspace(-1, 1.5, 100)\n",
    "y_plot = theta_prime*(x_plot**2)+theta*(x_plot)+b\n",
    "\n",
    "\n",
    "plt.scatter(x_plot, y_plot, color='red')\n",
    "plt.scatter(x, y, color='blue')\n",
    "\n",
    "\n",
    "# show the plot\n",
    "plt.title(\"3 iterations\", color='red', fontdict = {'fontsize': 20})\n",
    "plt.show()"
   ]
  },
  {
   "cell_type": "code",
   "execution_count": 44,
   "metadata": {},
   "outputs": [
    {
     "name": "stdout",
     "output_type": "stream",
     "text": [
      "theta_prime: 0.5125475927743893, theta: -0.4802400478842261, b: -0.45466274218753544\n"
     ]
    },
    {
     "data": {
      "image/png": "[encoded data removed]",
      "text/plain": [
       "<Figure size 432x288 with 1 Axes>"
      ]
     },
     "metadata": {
      "needs_background": "light"
     },
     "output_type": "display_data"
    }
   ],
   "source": [
    "theta_prime = theta_prime_history[4]\n",
    "theta = theta_history[4]\n",
    "b = b_history[4]\n",
    "\n",
    "print(f'theta_prime: {theta_prime}, theta: {theta}, b: {b}')\n",
    "\n",
    "x_plot = np.linspace(-1, 1.5, 100)\n",
    "y_plot = theta_prime*(x_plot**2)+theta*(x_plot)+b\n",
    "\n",
    "\n",
    "plt.scatter(x_plot, y_plot, color='red')\n",
    "plt.scatter(x, y, color='blue')\n",
    "\n",
    "\n",
    "# show the plot\n",
    "plt.title(\"4 iterations\", color='red', fontdict = {'fontsize': 20})\n",
    "plt.show()"
   ]
  },
  {
   "cell_type": "code",
   "execution_count": 45,
   "metadata": {},
   "outputs": [
    {
     "name": "stdout",
     "output_type": "stream",
     "text": [
      "theta_prime: 0.5156088133164085, theta: -0.4754285094033103, b: -0.4436719076640541\n"
     ]
    },
    {
     "data": {
      "image/png": "[encoded data removed]",
      "text/plain": [
       "<Figure size 432x288 with 1 Axes>"
      ]
     },
     "metadata": {
      "needs_background": "light"
     },
     "output_type": "display_data"
    }
   ],
   "source": [
    "theta_prime = theta_prime_history[5]\n",
    "theta = theta_history[5]\n",
    "b = b_history[5]\n",
    "\n",
    "print(f'theta_prime: {theta_prime}, theta: {theta}, b: {b}')\n",
    "\n",
    "x_plot = np.linspace(-1, 1.5, 100)\n",
    "y_plot = theta_prime*(x_plot**2)+theta*(x_plot)+b\n",
    "\n",
    "\n",
    "plt.scatter(x_plot, y_plot, color='red')\n",
    "plt.scatter(x, y, color='blue')\n",
    "\n",
    "\n",
    "# show the plot\n",
    "plt.title(\"5 iterations\", color='red', fontdict = {'fontsize': 20})\n",
    "plt.show()"
   ]
  },
  {
   "cell_type": "code",
   "execution_count": 46,
   "metadata": {},
   "outputs": [
    {
     "name": "stdout",
     "output_type": "stream",
     "text": [
      "############ Lowest Cost for Model [y = 2.4451083095900437x-4.010927879850494] ############\n",
      "3.0920884827911035\n",
      "\n",
      "\n",
      " ############ Lowest Cost for Model [y=0.5304781500585234x**2+-0.4521118899792452x-0.4436719076640541] ############ \n",
      "0.6362296899615667\n",
      "\n",
      "\n",
      "Your model won 😆!!!!\n"
     ]
    }
   ],
   "source": [
    "print('############ Lowest Cost for Model [y = 2.4451083095900437x-4.010927879850494] ############')\n",
    "print(3.0920884827911035)\n",
    "\n",
    "if b > 0:\n",
    "    print(f'\\n\\n ############ Lowest Cost for Model [y={theta_prime_history[-1]}x**2+{theta_history[-1]}x+{b}] ############ ')\n",
    "else:\n",
    "    print(f'\\n\\n ############ Lowest Cost for Model [y={theta_prime_history[-1]}x**2+{theta_history[-1]}x{b}] ############ ')\n",
    "print(cost_history[-1])\n",
    "\n",
    "if cost_history[-1] < 3.0920884827911035:\n",
    "    print('\\n\\nYour model won 😆!!!!')\n",
    "else:\n",
    "    print('\\n\\nOops... You lost 😭 Keep trying!!')"
   ]
  },
  {
   "cell_type": "code",
   "execution_count": 47,
   "metadata": {},
   "outputs": [
    {
     "name": "stdout",
     "output_type": "stream",
     "text": [
      "theta_prime: 0.5304781500585234, theta: -0.4521118899792452, b: -0.39069818319967237\n"
     ]
    },
    {
     "data": {
      "image/png": "[encoded data removed]",
      "text/plain": [
       "<Figure size 432x288 with 1 Axes>"
      ]
     },
     "metadata": {
      "needs_background": "light"
     },
     "output_type": "display_data"
    }
   ],
   "source": [
    "theta_prime = theta_prime_history[-1]\n",
    "theta = theta_history[-1]\n",
    "b = b_history[-1]\n",
    "\n",
    "print(f'theta_prime: {theta_prime}, theta: {theta}, b: {b}')\n",
    "\n",
    "x_plot = np.linspace(-1, 1.5, 100)\n",
    "y_plot = theta_prime*(x_plot**2)+theta*(x_plot)+b\n",
    "\n",
    "\n",
    "plt.scatter(x_plot, y_plot, color='red')\n",
    "plt.scatter(x, y, color='blue')\n",
    "\n",
    "\n",
    "# show the plot\n",
    "plt.title(\"Final Model\", color='red', fontdict = {'fontsize': 20})\n",
    "plt.show()"
   ]
  }
 ],
 "metadata": {
  "kernelspec": {
   "display_name": "Python 3",
   "language": "python",
   "name": "python3"
  },
  "language_info": {
   "codemirror_mode": {
    "name": "ipython",
    "version": 3
   },
   "file_extension": ".py",
   "mimetype": "text/x-python",
   "name": "python",
   "nbconvert_exporter": "python",
   "pygments_lexer": "ipython3",
   "version": "3.7.9"
  }
 },
 "nbformat": 4,
 "nbformat_minor": 4
}
