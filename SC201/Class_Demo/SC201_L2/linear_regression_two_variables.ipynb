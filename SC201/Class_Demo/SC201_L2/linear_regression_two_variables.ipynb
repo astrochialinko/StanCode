{
 "cells": [
  {
   "cell_type": "code",
   "execution_count": 1,
   "metadata": {},
   "outputs": [],
   "source": [
    "#  File: linear_regression_two_varialbes\n",
    "#  ----------------------------\n",
    "#  This file shows student the fundamental concepts of \n",
    "#  machine learing:\n",
    "#      - loss function\n",
    "#      - cost function\n",
    "#      - linear regression\n",
    "#      - training process"
   ]
  },
  {
   "cell_type": "code",
   "execution_count": 2,
   "metadata": {},
   "outputs": [],
   "source": [
    "import matplotlib.pyplot as plt\n",
    "import numpy as np"
   ]
  },
  {
   "cell_type": "markdown",
   "metadata": {},
   "source": [
    "### Cost Function\n",
    "\n",
    "$J(\\theta, b) = \\frac{1}{2m} \\sum_{i=1}^{m} (\\theta x_i + b - y_i)^2$"
   ]
  },
  {
   "cell_type": "code",
   "execution_count": 3,
   "metadata": {},
   "outputs": [],
   "source": [
    "# This function computes the L2 loss which is \n",
    "# ----------------------------------------\n",
    "# [sum of (theta*x_i+b - y_i)^2] / (2*m) \n",
    "# ----------------------------------------\n",
    "# of data (x, y) to the line y = theta*x + b\n",
    "# \n",
    "# theta: float, slop of the line\n",
    "# b: float, the point on y axis intersects with the line when x=0\n",
    "# x: list, containing 21 data points\n",
    "# y: list, containing 21 data points\n",
    "\n",
    "# return: floar, the sum over all L2 loss of data points divided by 2m\n",
    "\n",
    "def cost_function(theta, b, x, y):\n",
    "    return sum((theta*x[i]+b-y[i])**2 for i in range(len(x)))/(2*len(x))"
   ]
  },
  {
   "cell_type": "code",
   "execution_count": 4,
   "metadata": {},
   "outputs": [
    {
     "name": "stdout",
     "output_type": "stream",
     "text": [
      "0.20833333333333334\n"
     ]
    }
   ],
   "source": [
    "# You should see 0.20833333333333334\n",
    "print(cost_function(0.5, 1.5, [1, 2, 3], [1, 2, 3]))"
   ]
  },
  {
   "cell_type": "markdown",
   "metadata": {},
   "source": [
    "$\\frac{\\partial J}{\\partial b} = \\frac{1}{m} \\sum_{i=1}^{m} (\\theta x_i + b - y_i) (x_i)$"
   ]
  },
  {
   "cell_type": "code",
   "execution_count": 5,
   "metadata": {},
   "outputs": [],
   "source": [
    "# This function returns the partial derivative of L2 loss function\n",
    "# with respect to theta: \n",
    "# --------------------------------------\n",
    "# [sum of (theta*x_i+b - y_i)*x_i] / m\n",
    "# --------------------------------------\n",
    "# theta: float, slop of the line\n",
    "# b: float, the point on y axis intersects with the line when x=0\n",
    "# x: list, containing 21 data points\n",
    "# y: list, containing 21 data points\n",
    "# return: flaot, the derivative of cost function J with respect to theta\n",
    "\n",
    "def dJ_dtheta(theta, b, x, y):\n",
    "    return sum( (theta*x[i]+b-y[i])*x[i] for i in range(len(x)) )/len(x)"
   ]
  },
  {
   "cell_type": "code",
   "execution_count": 6,
   "metadata": {},
   "outputs": [
    {
     "name": "stdout",
     "output_type": "stream",
     "text": [
      "0.6666666666666666\n"
     ]
    }
   ],
   "source": [
    "# You should see 0.6666666666666666\n",
    "print(dJ_dtheta(0.5, 1.5, [1, 2, 3], [1, 2, 3]))"
   ]
  },
  {
   "cell_type": "markdown",
   "metadata": {},
   "source": [
    "$\\frac{\\partial J}{\\partial \\theta} = \\frac{1}{m} \\sum_{i=1}^{m} (\\theta x_i + b - y_i)$"
   ]
  },
  {
   "cell_type": "code",
   "execution_count": 7,
   "metadata": {},
   "outputs": [],
   "source": [
    "# This function returns the partial derivative of L2 loss function\n",
    "# with respect to b: \n",
    "# --------------------------------------\n",
    "# [sum of (theta*x_i+b - y_i)] / m\n",
    "# --------------------------------------\n",
    "# theta: float, slop of the line\n",
    "# b: float, the point on y axis intersects with the line when x=0\n",
    "# x: list, containing 21 data points\n",
    "# y: list, containing 21 data points\n",
    "# return: flaot, the derivative of cost function J with respect to b\n",
    "\n",
    "def dJ_db(theta, b, x, y):\n",
    "    return sum( (theta*x[i]+b-y[i]) for i in range(len(x)) )/len(x)"
   ]
  },
  {
   "cell_type": "code",
   "execution_count": 8,
   "metadata": {},
   "outputs": [
    {
     "name": "stdout",
     "output_type": "stream",
     "text": [
      "0.5\n"
     ]
    }
   ],
   "source": [
    "# You should see 0.5\n",
    "print(dJ_db(0.5, 1.5, [1, 2, 3], [1, 2, 3]))"
   ]
  },
  {
   "cell_type": "code",
   "execution_count": 9,
   "metadata": {},
   "outputs": [],
   "source": [
    "# ---------- DO NOT EDIT THE CODE BELOW THIS LINE ---------- #"
   ]
  },
  {
   "cell_type": "code",
   "execution_count": 10,
   "metadata": {},
   "outputs": [],
   "source": [
    "x = [6.1101,5.5277,8.5186,7.0032,5.8598,8.3829,7.4764,8.5781,6.4862,5.0546,5.7107,10.164,5.734,8.4084,5.6407,5.3794,6.3654,5.1301,6.4296,7.0708,6.1891]"
   ]
  },
  {
   "cell_type": "code",
   "execution_count": 11,
   "metadata": {},
   "outputs": [],
   "source": [
    "y = [6.592,9.1302,13.662,11.854,6.8233,11.886,4.3483,12,6.5987,3.8166,3.2522,15.505,3.1551,7.2258,0.71618,3.5129,5.3048,0.56077,3.6518,5.3893,3.1386]"
   ]
  },
  {
   "cell_type": "code",
   "execution_count": 12,
   "metadata": {},
   "outputs": [],
   "source": [
    "# ---------- Showing your data ---------- #"
   ]
  },
  {
   "cell_type": "code",
   "execution_count": 13,
   "metadata": {},
   "outputs": [
    {
     "data": {
      "text/plain": [
       "(0.0, 30.0)"
      ]
     },
     "execution_count": 13,
     "metadata": {},
     "output_type": "execute_result"
    },
    {
     "data": {
      "image/png": "[encoded data removed]",
      "text/plain": [
       "<Figure size 432x288 with 1 Axes>"
      ]
     },
     "metadata": {
      "needs_background": "light"
     },
     "output_type": "display_data"
    }
   ],
   "source": [
    "plt.scatter(x, y)\n",
    "axes = plt.gca()\n",
    "axes.set_xlim([0,12])\n",
    "axes.set_ylim([0,30])"
   ]
  },
  {
   "cell_type": "code",
   "execution_count": 14,
   "metadata": {},
   "outputs": [],
   "source": [
    "# ---------- Initialize your theta ---------- #"
   ]
  },
  {
   "cell_type": "code",
   "execution_count": 15,
   "metadata": {},
   "outputs": [],
   "source": [
    "theta = -2\n",
    "b = -1"
   ]
  },
  {
   "cell_type": "code",
   "execution_count": 16,
   "metadata": {},
   "outputs": [],
   "source": [
    "# ---------- Initialize your alpha ---------- #"
   ]
  },
  {
   "cell_type": "code",
   "execution_count": 17,
   "metadata": {},
   "outputs": [],
   "source": [
    "# TODO: which value is appropriate for an ideal alpha?"
   ]
  },
  {
   "cell_type": "code",
   "execution_count": 18,
   "metadata": {},
   "outputs": [],
   "source": [
    "alpha = 0.01"
   ]
  },
  {
   "cell_type": "code",
   "execution_count": 19,
   "metadata": {},
   "outputs": [],
   "source": [
    "# ---------- Training process ---------- #\n",
    "# ---- 11 iterations over all data ----- #"
   ]
  },
  {
   "cell_type": "code",
   "execution_count": 20,
   "metadata": {},
   "outputs": [],
   "source": [
    "theta_history = []\n",
    "b_history = []\n",
    "cost_history = []\n",
    "for i in range(11):\n",
    "    theta_history.append(theta)\n",
    "    b_history.append(b)\n",
    "    cost = cost_function(theta, b, x, y)\n",
    "    cost_history.append(cost)\n",
    "    \n",
    "    # Steeptest decscent\n",
    "    temp_theta = theta\n",
    "    temp_b = b\n",
    "    theta = theta - alpha * dJ_dtheta(temp_theta, temp_b, x, y)\n",
    "    b = b - alpha * dJ_db(temp_theta, temp_b, x, y)"
   ]
  },
  {
   "cell_type": "code",
   "execution_count": 21,
   "metadata": {},
   "outputs": [],
   "source": [
    "# ---------- Theta changes during training process ---------- #"
   ]
  },
  {
   "cell_type": "code",
   "execution_count": 22,
   "metadata": {},
   "outputs": [
    {
     "name": "stdout",
     "output_type": "stream",
     "text": [
      "[242.26337731850708, 68.9931113887198, 22.152312544996864, 9.48897457871618, 6.064771484600506, 5.138168530324135, 4.88673823829931, 4.81782692570556, 4.798256370142217, 4.792024731502277, 4.789399693792491]\n"
     ]
    }
   ],
   "source": [
    "print(cost_history)"
   ]
  },
  {
   "cell_type": "code",
   "execution_count": 23,
   "metadata": {},
   "outputs": [
    {
     "name": "stdout",
     "output_type": "stream",
     "text": [
      "theta: -2, b = -1\n"
     ]
    },
    {
     "data": {
      "image/png": "[encoded data removed]",
      "text/plain": [
       "<Figure size 432x288 with 1 Axes>"
      ]
     },
     "metadata": {
      "needs_background": "light"
     },
     "output_type": "display_data"
    }
   ],
   "source": [
    "theta = theta_history[0]\n",
    "b = b_history[0]\n",
    "\n",
    "print(f'theta: {theta}, b = {b}')\n",
    "\n",
    "x_plot = np.linspace(0, 12, 140)\n",
    "y_plot = theta*x_plot + b\n",
    "\n",
    "\n",
    "plt.scatter(x_plot, y_plot, s=8, color='red')\n",
    "plt.scatter(x, y, color='blue')\n",
    "\n",
    "plt.title(\"0 iterations\", color='red', fontdict = {'fontsize': 20})\n",
    "plt.show()"
   ]
  },
  {
   "cell_type": "code",
   "execution_count": 24,
   "metadata": {},
   "outputs": [
    {
     "name": "stdout",
     "output_type": "stream",
     "text": [
      "theta: -0.5047546785604766, b = -0.7897318333333334\n"
     ]
    },
    {
     "data": {
      "image/png": "[encoded data removed]",
      "text/plain": [
       "<Figure size 432x288 with 1 Axes>"
      ]
     },
     "metadata": {
      "needs_background": "light"
     },
     "output_type": "display_data"
    }
   ],
   "source": [
    "theta = theta_history[1]\n",
    "b = b_history[1]\n",
    "\n",
    "print(f'theta: {theta}, b = {b}')\n",
    "\n",
    "x_plot = np.linspace(0, 12, 140)\n",
    "y_plot = theta*x_plot + b\n",
    "\n",
    "\n",
    "plt.scatter(x_plot, y_plot, s=8, color='red')\n",
    "plt.scatter(x, y, color='blue')\n",
    "\n",
    "plt.title(\"1 iterations\", color='red', fontdict = {'fontsize': 20})\n",
    "plt.show()"
   ]
  },
  {
   "cell_type": "code",
   "execution_count": 25,
   "metadata": {},
   "outputs": [
    {
     "name": "stdout",
     "output_type": "stream",
     "text": [
      "theta: 0.2729145392767073, b = -0.6821178936879169\n"
     ]
    },
    {
     "data": {
      "image/png": "[encoded data removed]",
      "text/plain": [
       "<Figure size 432x288 with 1 Axes>"
      ]
     },
     "metadata": {
      "needs_background": "light"
     },
     "output_type": "display_data"
    }
   ],
   "source": [
    "theta = theta_history[2]\n",
    "b = b_history[2]\n",
    "\n",
    "print(f'theta: {theta}, b = {b}')\n",
    "\n",
    "x_plot = np.linspace(0, 12, 140)\n",
    "y_plot = theta*x_plot + b\n",
    "\n",
    "\n",
    "plt.scatter(x_plot, y_plot, s=8, color='red')\n",
    "plt.scatter(x, y, color='blue')\n",
    "\n",
    "plt.title(\"2 iterations\", color='red', fontdict = {'fontsize': 20})\n",
    "plt.show()"
   ]
  },
  {
   "cell_type": "code",
   "execution_count": 26,
   "metadata": {},
   "outputs": [
    {
     "name": "stdout",
     "output_type": "stream",
     "text": [
      "theta: 0.677493579944936, b = -0.6278764226813942\n"
     ]
    },
    {
     "data": {
      "image/png": "[encoded data removed]",
      "text/plain": [
       "<Figure size 432x288 with 1 Axes>"
      ]
     },
     "metadata": {
      "needs_background": "light"
     },
     "output_type": "display_data"
    }
   ],
   "source": [
    "theta = theta_history[3]\n",
    "b = b_history[3]\n",
    "\n",
    "print(f'theta: {theta}, b = {b}')\n",
    "\n",
    "x_plot = np.linspace(0, 12, 140)\n",
    "y_plot = theta*x_plot + b\n",
    "\n",
    "\n",
    "plt.scatter(x_plot, y_plot, s=8, color='red')\n",
    "plt.scatter(x, y, color='blue')\n",
    "\n",
    "plt.title(\"3 iterations\", color='red', fontdict = {'fontsize': 20})\n",
    "plt.show()"
   ]
  },
  {
   "cell_type": "code",
   "execution_count": 27,
   "metadata": {},
   "outputs": [
    {
     "name": "stdout",
     "output_type": "stream",
     "text": [
      "theta: 0.8880913667946526, b = -0.6013843050551079\n"
     ]
    },
    {
     "data": {
      "image/png": "[encoded data removed]",
      "text/plain": [
       "<Figure size 432x288 with 1 Axes>"
      ]
     },
     "metadata": {
      "needs_background": "light"
     },
     "output_type": "display_data"
    }
   ],
   "source": [
    "theta = theta_history[4]\n",
    "b = b_history[4]\n",
    "\n",
    "print(f'theta: {theta}, b = {b}')\n",
    "\n",
    "x_plot = np.linspace(0, 12, 140)\n",
    "y_plot = theta*x_plot + b\n",
    "\n",
    "\n",
    "plt.scatter(x_plot, y_plot, s=8, color='red')\n",
    "plt.scatter(x, y, color='blue')\n",
    "\n",
    "plt.title(\"4 iterations\", color='red', fontdict = {'fontsize': 20})\n",
    "plt.show()"
   ]
  },
  {
   "cell_type": "code",
   "execution_count": 28,
   "metadata": {},
   "outputs": [
    {
     "name": "stdout",
     "output_type": "stream",
     "text": [
      "theta: 0.9978321872582158, b = -0.5893192882904937\n"
     ]
    },
    {
     "data": {
      "image/png": "[encoded data removed]",
      "text/plain": [
       "<Figure size 432x288 with 1 Axes>"
      ]
     },
     "metadata": {
      "needs_background": "light"
     },
     "output_type": "display_data"
    }
   ],
   "source": [
    "theta = theta_history[5]\n",
    "b = b_history[5]\n",
    "\n",
    "print(f'theta: {theta}, b = {b}')\n",
    "\n",
    "x_plot = np.linspace(0, 12, 140)\n",
    "y_plot = theta*x_plot + b\n",
    "\n",
    "\n",
    "plt.scatter(x_plot, y_plot, s=8, color='red')\n",
    "plt.scatter(x, y, color='blue')\n",
    "\n",
    "plt.title(\"5 iterations\", color='red', fontdict = {'fontsize': 20})\n",
    "plt.show()"
   ]
  },
  {
   "cell_type": "code",
   "execution_count": 29,
   "metadata": {},
   "outputs": [],
   "source": [
    "# ---------- Plot the errors over the training process ---------- #"
   ]
  },
  {
   "cell_type": "code",
   "execution_count": 30,
   "metadata": {},
   "outputs": [
    {
     "data": {
      "text/plain": [
       "Text(0.5, 1.0, 'Errors over iterations')"
      ]
     },
     "execution_count": 30,
     "metadata": {},
     "output_type": "execute_result"
    },
    {
     "data": {
      "image/png": "[encoded data removed]",
      "text/plain": [
       "<Figure size 432x288 with 1 Axes>"
      ]
     },
     "metadata": {
      "needs_background": "light"
     },
     "output_type": "display_data"
    }
   ],
   "source": [
    "plot_x = list(range(len(cost_history)))\n",
    "plot_y = cost_history\n",
    "plt.plot(plot_x, plot_y)\n",
    "plt.title(\"Errors over iterations\", color = 'blue')"
   ]
  },
  {
   "cell_type": "code",
   "execution_count": 31,
   "metadata": {},
   "outputs": [
    {
     "name": "stdout",
     "output_type": "stream",
     "text": [
      "############ Final equation: y = 1.1141831566090963x-0.5893192882904937 ############\n"
     ]
    }
   ],
   "source": [
    "if b > 0:\n",
    "    print(f'############ Final equation: y = {theta_history[-1]}x+{b} ############')\n",
    "else:\n",
    "    print(f'############ Final equation: y = {theta_history[-1]}x{b} ############')"
   ]
  },
  {
   "cell_type": "code",
   "execution_count": 32,
   "metadata": {},
   "outputs": [
    {
     "name": "stdout",
     "output_type": "stream",
     "text": [
      "############ Lowest Cost for Model [y = 1.0353959032099576x] ############\n",
      "5.009627415893268\n",
      "\n",
      "\n",
      " ############ Lowest Cost for Model [y=1.1141831566090963x-0.5893192882904937] ############ \n",
      "4.789399693792491\n",
      "\n",
      "\n",
      "Your model won 😆!!!!\n"
     ]
    }
   ],
   "source": [
    "print('############ Lowest Cost for Model [y = 1.0353959032099576x] ############')\n",
    "print(5.009627415893268)\n",
    "\n",
    "if b > 0:\n",
    "    print(f'\\n\\n ############ Lowest Cost for Model [y={theta_history[-1]}x+{b}] ############ ')\n",
    "else:\n",
    "    print(f'\\n\\n ############ Lowest Cost for Model [y={theta_history[-1]}x{b}] ############ ')\n",
    "print(cost_history[-1])\n",
    "\n",
    "if cost_history[-1] < 5.009627415893268:\n",
    "    print('\\n\\nYour model won 😆!!!!')\n",
    "else:\n",
    "    print('\\n\\nOops... You lost 😭 Keep trying!!')"
   ]
  },
  {
   "cell_type": "code",
   "execution_count": 33,
   "metadata": {},
   "outputs": [
    {
     "name": "stdout",
     "output_type": "stream",
     "text": [
      "theta: 1.1141831566090963, b = -0.5908254582609624\n"
     ]
    },
    {
     "data": {
      "image/png": "[encoded data removed]",
      "text/plain": [
       "<Figure size 432x288 with 1 Axes>"
      ]
     },
     "metadata": {
      "needs_background": "light"
     },
     "output_type": "display_data"
    }
   ],
   "source": [
    "theta = theta_history[-1]\n",
    "b = b_history[-1]\n",
    "\n",
    "print(f'theta: {theta}, b = {b}')\n",
    "\n",
    "x_plot = np.linspace(0, 12, 140)\n",
    "y_plot = theta*x_plot + b\n",
    "\n",
    "\n",
    "plt.scatter(x_plot, y_plot, s=8, color='red')\n",
    "plt.scatter(x, y, color='blue')\n",
    "\n",
    "plt.title(\"Final Model\", color='red', fontdict = {'fontsize': 20})\n",
    "plt.show()"
   ]
  }
 ],
 "metadata": {
  "kernelspec": {
   "display_name": "Python 3",
   "language": "python",
   "name": "python3"
  },
  "language_info": {
   "codemirror_mode": {
    "name": "ipython",
    "version": 3
   },
   "file_extension": ".py",
   "mimetype": "text/x-python",
   "name": "python",
   "nbconvert_exporter": "python",
   "pygments_lexer": "ipython3",
   "version": "3.7.9"
  }
 },
 "nbformat": 4,
 "nbformat_minor": 4
}
