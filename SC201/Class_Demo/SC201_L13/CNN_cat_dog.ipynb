{
 "cells": [
  {
   "cell_type": "code",
   "execution_count": null,
   "metadata": {
    "colab": {
     "base_uri": "https://localhost:8080/"
    },
    "executionInfo": {
     "elapsed": 20194,
     "status": "ok",
     "timestamp": 1615887015483,
     "user": {
      "displayName": "stanCode標準程式教育機構",
      "photoUrl": "https://lh3.googleusercontent.com/a-/AOh14GhEXNEf8CuikK9lo_S6uoGBFySnbTpVXF0hGf8r=s64",
      "userId": "17922542024282624619"
     },
     "user_tz": -480
    },
    "id": "jczvfhGmMu6F",
    "outputId": "f2f8a7ed-8491-4af0-d45c-459870e5943b"
   },
   "outputs": [],
   "source": [
    "# this mounts your Google Drive to the Colab VM.\n",
    "from google.colab import drive\n",
    "drive.mount('/content/drive', force_remount=True)"
   ]
  },
  {
   "cell_type": "code",
   "execution_count": null,
   "metadata": {
    "id": "ucRp8G7bM1j0"
   },
   "outputs": [],
   "source": [
    "# 請輸入資料夾之所在位置\n",
    "FOLDERNAME = 'Colab\\ Notebooks/SC201_L13'\n",
    "assert FOLDERNAME is not None, \"[!] Enter the foldername.\""
   ]
  },
  {
   "cell_type": "code",
   "execution_count": null,
   "metadata": {
    "id": "eo7ZOxm5NEcP"
   },
   "outputs": [],
   "source": []
  },
  {
   "cell_type": "code",
   "execution_count": null,
   "metadata": {
    "id": "yLu5SxTjNF_9"
   },
   "outputs": [],
   "source": [
    "%cd drive/MyDrive/$FOLDERNAME\n",
    "BATCH_SIZE = 64"
   ]
  },
  {
   "cell_type": "code",
   "execution_count": null,
   "metadata": {},
   "outputs": [],
   "source": []
  },
  {
   "cell_type": "code",
   "execution_count": null,
   "metadata": {},
   "outputs": [],
   "source": [
    "# Calculate the mean/std for Training Dataset\n",
    "# You will see the mean/std of your data at the end of this cell\n",
    "\"\"\"\n",
    "import torchvision.datasets as dset\n",
    "from torch.utils.data import DataLoader\n",
    "import torchvision.transforms as T\n",
    "import torch\n",
    "\n",
    "transform = T.Compose([T.Resize((64, 64)), T.ToTensor()])\n",
    "dataset = dset.ImageFolder('train/', transform=transform)\n",
    "loader = DataLoader(dataset, batch_size=BATCH_SIZE)\n",
    "mean = 0.0\n",
    "std = 0.0\n",
    "n_samples = 0\n",
    "for batch, _ in loader:\n",
    "  # Rearrange batch to be the shape of [B, C, W * H]\n",
    "  batch = batch.view(batch.size(0), batch.size(1), -1)\n",
    "  # Update total number of images\n",
    "  n_samples += batch.size(0)\n",
    "  # Compute mean and std here\n",
    "  mean += batch.mean(2).sum(0) \n",
    "  std += batch.std(2).sum(0)\n",
    "mean /= n_samples\n",
    "std /= n_samples\n",
    "print('mean on Training:', mean)\n",
    "print('std on Training:', std)\n",
    "\"\"\""
   ]
  },
  {
   "cell_type": "code",
   "execution_count": null,
   "metadata": {},
   "outputs": [],
   "source": []
  },
  {
   "cell_type": "code",
   "execution_count": null,
   "metadata": {
    "id": "Z4rwK0MHNGLH"
   },
   "outputs": [],
   "source": []
  },
  {
   "cell_type": "code",
   "execution_count": null,
   "metadata": {
    "id": "sLQ0VIZNNhwh"
   },
   "outputs": [],
   "source": [
    "import torch\n",
    "mean = torch.tensor([0.4841, 0.4508, 0.4127])\n",
    "std = torch.tensor([0.2155, 0.2103, 0.2101])\n",
    "# Data Pre-processing by PyTorch\n",
    "##################\n",
    "#                #\n",
    "#      TODO:     #\n",
    "#                #      \n",
    "##################"
   ]
  },
  {
   "cell_type": "code",
   "execution_count": null,
   "metadata": {
    "id": "Fb6MXF27PF9s"
   },
   "outputs": [],
   "source": []
  },
  {
   "cell_type": "code",
   "execution_count": null,
   "metadata": {
    "id": "rPBYH3uTPGCM"
   },
   "outputs": [],
   "source": [
    "%ls\n",
    "# Load Your Data by PyTorch\n",
    "##################\n",
    "#                #\n",
    "#      TODO:     #\n",
    "#                #      \n",
    "##################"
   ]
  },
  {
   "cell_type": "code",
   "execution_count": null,
   "metadata": {
    "id": "ReCciw_ZPLKs"
   },
   "outputs": [],
   "source": []
  },
  {
   "cell_type": "code",
   "execution_count": null,
   "metadata": {
    "id": "1u9uIPpCPLS5"
   },
   "outputs": [],
   "source": [
    "# Create Mini-batches by PyTorch\n",
    "mini_trains = None\n",
    "##################\n",
    "#                #\n",
    "#      TODO:     #\n",
    "#                #      \n",
    "##################"
   ]
  },
  {
   "cell_type": "code",
   "execution_count": null,
   "metadata": {
    "id": "NYM-Yo9TPPM-"
   },
   "outputs": [],
   "source": []
  },
  {
   "cell_type": "code",
   "execution_count": null,
   "metadata": {
    "colab": {
     "base_uri": "https://localhost:8080/"
    },
    "executionInfo": {
     "elapsed": 4792,
     "status": "ok",
     "timestamp": 1615884936115,
     "user": {
      "displayName": "stanCode標準程式教育機構",
      "photoUrl": "https://lh3.googleusercontent.com/a-/AOh14GhEXNEf8CuikK9lo_S6uoGBFySnbTpVXF0hGf8r=s64",
      "userId": "17922542024282624619"
     },
     "user_tz": -480
    },
    "id": "ErEUK681PiMk",
    "outputId": "405d03e3-d614-455b-96c0-948446f6e977"
   },
   "outputs": [],
   "source": [
    "# See if GPU is available\n",
    "# To turn GPU on: Edit -> Notebook Setting -> GPU\n",
    "\n",
    "import torch\n",
    "\n",
    "USE_GPU = True\n",
    "if USE_GPU and torch.cuda.is_available():\n",
    "    device = torch.device('cuda')\n",
    "else:\n",
    "    device = torch.device('cpu')\n",
    "print('using device:', device)"
   ]
  },
  {
   "cell_type": "code",
   "execution_count": null,
   "metadata": {
    "id": "GpzfDw9rPwlM"
   },
   "outputs": [],
   "source": []
  },
  {
   "cell_type": "code",
   "execution_count": null,
   "metadata": {
    "id": "3_WwCc9_QBoU"
   },
   "outputs": [],
   "source": [
    "\"\"\"\n",
    "Plot some training data! \n",
    "We need to denormalize PyTorch Tensor first, \n",
    "and then change it to images with RGB channel\n",
    "\"\"\"\n",
    "\n",
    "import matplotlib.pyplot as plt\n",
    "import numpy as np\n",
    "\n",
    "%matplotlib inline\n",
    "classes = ['cat','dog']\n",
    "\n",
    "# Reverse the normalized value to 0-255\n",
    "def denormalize(image):\n",
    "  image = T.Normalize(-mean/std,1/std)(image) #denormalize\n",
    "  image = image.permute(1,2,0) #Changing from 3x224x224 to 224x224x3\n",
    "  image = torch.clamp(image,0,1)\n",
    "  return image\n",
    "\n",
    "# Display an image\n",
    "def imshow(img):\n",
    "    img = denormalize(img) \n",
    "    plt.imshow(img)\n",
    "\n",
    "dataiter = iter(mini_trains)\n",
    "images, labels = dataiter.next()\n",
    "# plot the images in the batch, along with the corresponding labels\n",
    "fig = plt.figure(figsize=(25, 8))\n",
    "# display 20 images\n",
    "for idx in np.arange(20):\n",
    "    ax = fig.add_subplot(2, 20/2, idx+1, xticks=[], yticks=[])\n",
    "    imshow(images[idx])\n",
    "    ax.set_title(\"{} \".format( classes[labels[idx]]))"
   ]
  },
  {
   "cell_type": "code",
   "execution_count": null,
   "metadata": {
    "id": "hKnmLrqmQBqx"
   },
   "outputs": [],
   "source": [
    "import torch.nn as nn"
   ]
  },
  {
   "cell_type": "code",
   "execution_count": null,
   "metadata": {
    "id": "_ZpztZtDSLk3"
   },
   "outputs": [],
   "source": [
    "model = nn.Sequential(\n",
    "    # Your Model Here\n",
    "    ##################\n",
    "    #                #\n",
    "    #      TODO:     #\n",
    "    #                #      \n",
    "    ##################\n",
    "    pass\n",
    ")"
   ]
  },
  {
   "cell_type": "code",
   "execution_count": null,
   "metadata": {
    "id": "QWuPkG9DSTWx"
   },
   "outputs": [],
   "source": [
    "from torchsummary import summary\n",
    "summary(model.cuda(), (3, 64, 64))"
   ]
  },
  {
   "cell_type": "code",
   "execution_count": null,
   "metadata": {
    "id": "1dzDfQsfSTqN"
   },
   "outputs": [],
   "source": []
  },
  {
   "cell_type": "code",
   "execution_count": null,
   "metadata": {
    "id": "Eh1oH6GXStn4"
   },
   "outputs": [],
   "source": [
    "import torch.optim as optim\n",
    "learning_rate = 1e-3\n",
    "# Choose your optimizer\n",
    "##################\n",
    "#                #\n",
    "#      TODO:     #\n",
    "#                #      \n",
    "##################"
   ]
  },
  {
   "cell_type": "code",
   "execution_count": null,
   "metadata": {
    "id": "FHHqKpccD9k2"
   },
   "outputs": [],
   "source": []
  },
  {
   "cell_type": "code",
   "execution_count": null,
   "metadata": {
    "id": "aUR8EEEzD9n7"
   },
   "outputs": [],
   "source": [
    "\"\"\"\n",
    "Training Process begins!\n",
    "We will be using your model and optimizer to \n",
    "call forward pass / backward pass.\n",
    "However, which loss function should you choose?\n",
    "Let's try out! You will see the difference between different loss function in decreasing training cost\n",
    "\"\"\""
   ]
  },
  {
   "cell_type": "code",
   "execution_count": null,
   "metadata": {
    "id": "eYZLBcR9D9rO"
   },
   "outputs": [],
   "source": [
    "from tqdm.notebook import tqdm\n",
    "\n",
    "def train():\n",
    "  \n",
    "  # Turn on the training mode on your model\n",
    "  model.train()\n",
    "  \n",
    "  for data, target in tqdm(mini_trains):  \n",
    "    \n",
    "    # move tensors to GPU if CUDA is available\n",
    "    data = data.to(device)\n",
    "    target = target.to(device)\n",
    "\n",
    "    # clear the gradients of all optimized variables\n",
    "    optimizer.zero_grad()\n",
    "    \n",
    "    # forward pass: compute predicted outputs by passing inputs to the model\n",
    "    scores = model(data)\n",
    "    \n",
    "    # calculate the batch loss\n",
    "    # Choose your loss function!\n",
    "    ##################\n",
    "    #                #\n",
    "    #      TODO:     #\n",
    "    #                #      \n",
    "    ##################\n",
    "\n",
    "    loss.backward()\n",
    "\n",
    "    # perform a single optimization step (parameter update)\n",
    "    optimizer.step()"
   ]
  },
  {
   "cell_type": "code",
   "execution_count": null,
   "metadata": {
    "id": "1pqWMWypEg4q"
   },
   "outputs": [],
   "source": [
    "def evaluate_predictor():\n",
    "\n",
    "  # Turn on evaluation mode on your model\n",
    "  model.eval()\n",
    "\n",
    "  train_loss = 0\n",
    "  train_acc = 0\n",
    "  for data, target in tqdm(mini_trains):\n",
    "    # move tensors to GPU if CUDA is available\n",
    "    data = data.to(device)\n",
    "    target = target.to(device)\n",
    "    # forward pass: compute predicted outputs by passing inputs to the model\n",
    "    scores = model(data)\n",
    "    \n",
    "    # Choose your loss function!\n",
    "    ##################\n",
    "    #                #\n",
    "    #      TODO:     #\n",
    "    #                #      \n",
    "    ##################\n",
    "\n",
    "    train_loss += loss.item()*data.size(0)\n",
    "    prediction = scores.data.max(1)[1]\n",
    "    acc = prediction.eq(target).sum().item()\n",
    "    train_acc += acc\n",
    "\n",
    "\t# calculate average losses\n",
    "  train_loss = train_loss / len(mini_trains.dataset)\n",
    "  train_acc = train_acc / len(mini_trains.dataset)\n",
    "  return train_loss, train_acc"
   ]
  },
  {
   "cell_type": "code",
   "execution_count": null,
   "metadata": {
    "id": "EB8h0ehBFHP6"
   },
   "outputs": [],
   "source": [
    "for epoch in range(7):\n",
    "\tprint('EPOCH: {}'.format(epoch+1))\n",
    "\ttrain()\n",
    "\ttrain_loss, train_acc = evaluate_predictor()\n",
    "\n",
    "\tprint('\\tTraining Loss: {:.6f}\\tTraining Acc: {:.6f}'.format(train_loss, train_acc))"
   ]
  },
  {
   "cell_type": "code",
   "execution_count": null,
   "metadata": {
    "id": "cBlZqCjbItLH"
   },
   "outputs": [],
   "source": []
  },
  {
   "cell_type": "code",
   "execution_count": null,
   "metadata": {
    "id": "51cl1kgoItPD"
   },
   "outputs": [],
   "source": [
    "\"\"\"\n",
    "Loading Test Data\n",
    "-------------------------\n",
    "\"\"\"\n",
    "test_data = dset.ImageFolder('test/', transform=transform)\n",
    "print(test_data)\n",
    "mini_tests = DataLoader(test_data, batch_size = 64, shuffle = True)"
   ]
  },
  {
   "cell_type": "code",
   "execution_count": null,
   "metadata": {
    "id": "ZPSssIvXIv1U"
   },
   "outputs": [],
   "source": [
    "model.eval()\n",
    "test_acc = 0\n",
    "for data, target in tqdm(mini_tests):\n",
    "  data = data.to(device)\n",
    "  target = target.to(device)\n",
    "  scores = model(data)\n",
    "  prediction = scores.data.max(1)[1]\n",
    "  acc = prediction.eq(target).sum().item()\n",
    "  test_acc += acc\n",
    "\n",
    "# calculate average losses\n",
    "test_acc = test_acc / len(mini_tests.dataset)\n",
    "print('Test Acc:', test_acc)"
   ]
  }
 ],
 "metadata": {
  "accelerator": "GPU",
  "colab": {
   "authorship_tag": "ABX9TyMBvzEze6xoJN6RV71guVz4",
   "name": "CNN_cat_dog.ipynb",
   "provenance": []
  },
  "kernelspec": {
   "display_name": "Python 3",
   "language": "python",
   "name": "python3"
  },
  "language_info": {
   "codemirror_mode": {
    "name": "ipython",
    "version": 3
   },
   "file_extension": ".py",
   "mimetype": "text/x-python",
   "name": "python",
   "nbconvert_exporter": "python",
   "pygments_lexer": "ipython3",
   "version": "3.7.9"
  }
 },
 "nbformat": 4,
 "nbformat_minor": 1
}
