{
 "cells": [
  {
   "cell_type": "code",
   "execution_count": 1,
   "metadata": {},
   "outputs": [],
   "source": [
    "import numpy as np\n",
    "from PIL import Image\n",
    "import matplotlib.pyplot as plt\n",
    "import os\n",
    "import random"
   ]
  },
  {
   "cell_type": "code",
   "execution_count": null,
   "metadata": {},
   "outputs": [],
   "source": []
  },
  {
   "cell_type": "code",
   "execution_count": 2,
   "metadata": {},
   "outputs": [],
   "source": [
    "# Load data\n",
    "file_path = 'train/'\n",
    "data_lst = []\n",
    "for filename in os.listdir(file_path):\n",
    "    if 'dog' not in filename and 'cat' not in filename:\n",
    "        continue\n",
    "    real_file_path = file_path + filename\n",
    "    img = Image.open(real_file_path)\n",
    "    img = img.resize((64, 64))\n",
    "    data = np.array(img)\n",
    "    data = data.reshape(64*64*3, 1)\n",
    "    if 'cat' in filename:\n",
    "        data_lst.append((data, 1, img))\n",
    "    elif 'dog' in filename:\n",
    "        data_lst.append((data, 0, img))"
   ]
  },
  {
   "cell_type": "code",
   "execution_count": 3,
   "metadata": {},
   "outputs": [],
   "source": [
    "X_lst = list(data_lst[i][0] for i in range(len(data_lst)))\n",
    "Y_lst = list(data_lst[i][1] for i in range(len(data_lst)))\n",
    "img_lst = list(data_lst[i][2] for i in range(len(data_lst)))"
   ]
  },
  {
   "cell_type": "code",
   "execution_count": 4,
   "metadata": {},
   "outputs": [],
   "source": [
    "# Convert Python list to numpy array\n",
    "X = np.array(X_lst)\n",
    "Y = np.array(Y_lst)"
   ]
  },
  {
   "cell_type": "code",
   "execution_count": 5,
   "metadata": {},
   "outputs": [
    {
     "name": "stdout",
     "output_type": "stream",
     "text": [
      "X.shape: (12288, 1002)\n",
      "Y.shaoe: (1, 1002)\n"
     ]
    }
   ],
   "source": [
    "# Convert to array with correct dimensions\n",
    "X = X.reshape(X.shape[0], X.shape[1])\n",
    "Y = Y.reshape(Y.shape[0], 1)\n",
    "X = X.T\n",
    "Y = Y.T\n",
    "print('X.shape:', X.shape)\n",
    "print('Y.shaoe:', Y.shape)"
   ]
  },
  {
   "cell_type": "code",
   "execution_count": 6,
   "metadata": {},
   "outputs": [],
   "source": [
    "# Normalization\n",
    "min_X = np.min(X)\n",
    "max_X = np.max(X)\n",
    "X = (X - min_X)/(max_X - min_X)"
   ]
  },
  {
   "cell_type": "code",
   "execution_count": 7,
   "metadata": {},
   "outputs": [],
   "source": [
    "# Initializing parameters of a 2-layer neural network\n",
    "np.random.seed(0)\n",
    "N0, m = X.shape\n",
    "N1 = 10\n",
    "N2 = 1\n",
    "W1 = np.random.rand(N0, N1) - 0.5\n",
    "B1 = np.random.rand(N1, 1) - 0.5\n",
    "W2 = np.random.rand(N1, N2) - 0.5\n",
    "B2 = np.random.rand(N2, 1) - 0.5"
   ]
  },
  {
   "cell_type": "code",
   "execution_count": 8,
   "metadata": {},
   "outputs": [
    {
     "name": "stdout",
     "output_type": "stream",
     "text": [
      "32.838553644951105\n"
     ]
    }
   ],
   "source": [
    "# You should see 32.838553644951105\n",
    "print(np.sum(W1))"
   ]
  },
  {
   "cell_type": "code",
   "execution_count": 9,
   "metadata": {},
   "outputs": [
    {
     "name": "stdout",
     "output_type": "stream",
     "text": [
      "-1.0433989293244808\n"
     ]
    }
   ],
   "source": [
    "# You should see -0.4229774016622794\n",
    "print(np.sum(B1))"
   ]
  },
  {
   "cell_type": "code",
   "execution_count": 10,
   "metadata": {},
   "outputs": [
    {
     "name": "stdout",
     "output_type": "stream",
     "text": [
      "-0.4229774016622794\n"
     ]
    }
   ],
   "source": [
    "# You should see -1.0433989293244808\n",
    "print(np.sum(W2))"
   ]
  },
  {
   "cell_type": "code",
   "execution_count": 11,
   "metadata": {},
   "outputs": [
    {
     "name": "stdout",
     "output_type": "stream",
     "text": [
      "-0.4841141325352224\n"
     ]
    }
   ],
   "source": [
    "# You should see -0.4841141325352224\n",
    "print(np.sum(B2))"
   ]
  },
  {
   "cell_type": "code",
   "execution_count": null,
   "metadata": {},
   "outputs": [],
   "source": []
  },
  {
   "cell_type": "code",
   "execution_count": 12,
   "metadata": {},
   "outputs": [
    {
     "name": "stdout",
     "output_type": "stream",
     "text": [
      "Cost: 4.424046966453417\n",
      "Cost: 0.6908601205836481\n",
      "Cost: 0.6863672890425341\n",
      "Cost: 0.6816175716972489\n",
      "Cost: 0.6772474738818115\n",
      "Cost: 0.671555755923637\n",
      "Cost: 0.6652841749066093\n",
      "Cost: 0.6590535794515534\n",
      "Cost: 0.6522672256922352\n",
      "Cost: 0.6446412773036614\n",
      "Cost: 0.6368039035337787\n",
      "Cost: 0.6293621559218476\n",
      "Cost: 0.6220930415504082\n",
      "Cost: 0.6143945178372001\n",
      "Cost: 0.6065124007026886\n",
      "Cost: 0.5987444409791776\n",
      "Cost: 0.5909666142346334\n",
      "Cost: 0.5830701752594613\n",
      "Cost: 0.5749493645636091\n",
      "Cost: 0.5668938188793071\n",
      "Cost: 0.5588571792301286\n",
      "Cost: 0.5506135683340724\n",
      "Cost: 0.5422732341136138\n",
      "Cost: 0.5339135381973625\n",
      "Cost: 0.5255655204534159\n",
      "Cost: 0.5171064036261142\n",
      "Cost: 0.508136586991663\n",
      "Cost: 0.499358649289001\n",
      "Cost: 0.4905035289585374\n",
      "Cost: 0.481821243962513\n"
     ]
    }
   ],
   "source": [
    "#################### Training ####################\n",
    "alpha = 0.02\n",
    "cost_history = []\n",
    "for epoch in range(6000):\n",
    "    \n",
    "    # Forward Pass\n",
    "    K1 = np.dot(W1.T, X) + B1\n",
    "    A1 = np.maximum(0, K1)\n",
    "    K2 = np.dot(W2.T, A1) + B2\n",
    "    A2 = np.maximum(0, K2)\n",
    "    H = 1 / (1 + np.exp(-K2))\n",
    "    L = -(Y*np.log(H)+(1-Y)*np.log(1-H))\n",
    "    J = (1/m)*np.sum(L)\n",
    "    \n",
    "    if epoch % 200 == 0:\n",
    "        cost_history.append(J)\n",
    "        print('Cost:', J)\n",
    "    \n",
    "    # Backward Pass\n",
    "    dK2 = (1/m)*np.sum(H-Y, axis=0, keepdims = True)\n",
    "    dW2 = np.dot(A1, dK2.T)\n",
    "    dB2 = np.sum(dK2, axis=1, keepdims = True)\n",
    "    dA1 = np.dot(W2, dK2)\n",
    "    dK1 = dA1 * np.where(K1>0, 1, 0)\n",
    "    dW1 = np.dot(X, dK1.T)\n",
    "    dB1 = np.sum(dK1, axis=1, keepdims=True)\n",
    "    \n",
    "    # Updates \n",
    "    W2 -= alpha * dW2\n",
    "    B2 -= alpha * dB2\n",
    "    W1 -= alpha * dW1\n",
    "    B1 -= alpha * dB1\n",
    "    "
   ]
  },
  {
   "cell_type": "code",
   "execution_count": 13,
   "metadata": {},
   "outputs": [
    {
     "data": {
      "text/plain": [
       "Text(0.5, 1.0, 'Costs over iterations')"
      ]
     },
     "execution_count": 13,
     "metadata": {},
     "output_type": "execute_result"
    },
    {
     "data": {
      "image/png": "[encoded data removed]",
      "text/plain": [
       "<Figure size 432x288 with 1 Axes>"
      ]
     },
     "metadata": {
      "needs_background": "light"
     },
     "output_type": "display_data"
    }
   ],
   "source": [
    "plot_x = list(range(len(cost_history)))\n",
    "plot_y = cost_history\n",
    "plt.plot(plot_x, plot_y)\n",
    "plt.title(\"Costs over iterations\", color = 'blue', fontdict = {'fontsize': 20})"
   ]
  },
  {
   "cell_type": "code",
   "execution_count": null,
   "metadata": {},
   "outputs": [],
   "source": []
  },
  {
   "cell_type": "code",
   "execution_count": 14,
   "metadata": {},
   "outputs": [
    {
     "name": "stdout",
     "output_type": "stream",
     "text": [
      "[[0.52976428 0.42563201 0.86959903 ... 0.49951463 0.36877647 0.3989423 ]]\n",
      "Training Accuracy: 0.7395209580838323\n",
      "[[1 0 0 ... 0 0 0]]\n"
     ]
    }
   ],
   "source": [
    "count = 0\n",
    "K1 = np.dot(W1.T, X) + B1\n",
    "A1 = np.maximum(0, K1)\n",
    "K2 = np.dot(W2.T, A1) + B2\n",
    "A2 = 1 / (1+np.exp(-K2))\n",
    "print(A2)\n",
    "wrong_result = []\n",
    "for i in range(Y.shape[1]):\n",
    "    y = 0 if A2[0][i] < 0.5  else 1\n",
    "    if y == Y[0][i]:\n",
    "        count += 1\n",
    "    else:\n",
    "        wrong_result.append(i)\n",
    "print('Training Accuracy:', count/Y.shape[1])\n",
    "print(Y)"
   ]
  },
  {
   "cell_type": "code",
   "execution_count": null,
   "metadata": {},
   "outputs": [],
   "source": []
  },
  {
   "cell_type": "code",
   "execution_count": 15,
   "metadata": {},
   "outputs": [],
   "source": [
    "#################### Testing #################### "
   ]
  },
  {
   "cell_type": "code",
   "execution_count": 16,
   "metadata": {},
   "outputs": [],
   "source": [
    "file_path = 'test/'\n",
    "num_data = 0\n",
    "correct = 0\n",
    "X_test = []\n",
    "Y_test = []\n",
    "for filename in os.listdir(file_path):\n",
    "    if 'cat' not in filename and 'dog' not in filename:\n",
    "        continue\n",
    "    real_file_path = file_path+filename\n",
    "    img = Image.open(real_file_path)\n",
    "    img = img.resize((64, 64))\n",
    "    arr = np.array(img)\n",
    "    arr = arr.reshape(64*64*3, 1)\n",
    "    arr = arr / 255\n",
    "    X_test.append(arr)\n",
    "    if 'cat' in filename:\n",
    "        Y_test.append(1)\n",
    "    else:\n",
    "        Y_test.append(0)"
   ]
  },
  {
   "cell_type": "code",
   "execution_count": 17,
   "metadata": {},
   "outputs": [
    {
     "name": "stdout",
     "output_type": "stream",
     "text": [
      "Y_test.shape: (1, 100)\n",
      "X_test.shape: (12288, 100)\n"
     ]
    }
   ],
   "source": [
    "X_test = np.asarray(X_test)\n",
    "Y_test = np.asarray(Y_test)\n",
    "\n",
    "Y_test = Y_test.reshape(1, 100)\n",
    "print('Y_test.shape:', Y_test.shape)\n",
    "X_test = X_test.reshape(X_test.shape[0], X_test.shape[1])\n",
    "X_test = X_test.T\n",
    "print('X_test.shape:',X_test.shape)"
   ]
  },
  {
   "cell_type": "code",
   "execution_count": 18,
   "metadata": {},
   "outputs": [],
   "source": [
    "Z1 = np.dot(W1.T, X) + B1\n",
    "A1 = np.maximum(0, Z1)\n",
    "Z2 = np.dot(W2.T, A1) + B2\n",
    "H_test = 1/(1+np.exp(-Z2))\n",
    "num_data = 100\n",
    "correct = 0\n",
    "for i in range(100):\n",
    "    y_predict = 1 if H_test[0][i] < 0.5 else 0\n",
    "    if y_predict == Y_test[0][i]:\n",
    "        correct += 1"
   ]
  },
  {
   "cell_type": "code",
   "execution_count": 19,
   "metadata": {},
   "outputs": [
    {
     "name": "stdout",
     "output_type": "stream",
     "text": [
      "Number of data: 100\n",
      "Accuracy: 0.55\n"
     ]
    }
   ],
   "source": [
    "print('Number of data:', num_data)\n",
    "print('Accuracy:', correct/num_data)"
   ]
  },
  {
   "cell_type": "code",
   "execution_count": null,
   "metadata": {},
   "outputs": [],
   "source": []
  }
 ],
 "metadata": {
  "kernelspec": {
   "display_name": "Python 3",
   "language": "python",
   "name": "python3"
  },
  "language_info": {
   "codemirror_mode": {
    "name": "ipython",
    "version": 3
   },
   "file_extension": ".py",
   "mimetype": "text/x-python",
   "name": "python",
   "nbconvert_exporter": "python",
   "pygments_lexer": "ipython3",
   "version": "3.7.9"
  }
 },
 "nbformat": 4,
 "nbformat_minor": 4
}
