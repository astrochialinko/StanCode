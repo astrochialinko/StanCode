{
 "cells": [
  {
   "cell_type": "code",
   "execution_count": 1,
   "metadata": {},
   "outputs": [],
   "source": [
    "import numpy as np\n",
    "import time"
   ]
  },
  {
   "cell_type": "code",
   "execution_count": null,
   "metadata": {},
   "outputs": [],
   "source": []
  },
  {
   "cell_type": "code",
   "execution_count": null,
   "metadata": {},
   "outputs": [],
   "source": [
    "# TODO: Use numpy to create 5 arrays:\n",
    "# 1 1D vector\n",
    "# 1 2D array with shape (2, 3)\n",
    "# 1 2D ones array with shape (2, 3)\n",
    "# 1 2D zeros array with shape(2, 3)\n",
    "# 2 2D array with random values"
   ]
  },
  {
   "cell_type": "code",
   "execution_count": 25,
   "metadata": {},
   "outputs": [
    {
     "name": "stdout",
     "output_type": "stream",
     "text": [
      "[1 2 3]\n",
      "(1, 3)\n",
      "---------------\n",
      "[[1]\n",
      " [2]\n",
      " [3]]\n",
      "(3, 1)\n"
     ]
    }
   ],
   "source": [
    "# 1D vector\n",
    "# Remember to print its shape\n",
    "vec = np.array([1,2,3])\n",
    "print(vec)\n",
    "vec = vec.reshape((1,3))\n",
    "print(vec.shape)\n",
    "print('---------------')\n",
    "new_vec = vec.T\n",
    "print(new_vec)\n",
    "print(new_vec.shape)"
   ]
  },
  {
   "cell_type": "code",
   "execution_count": 7,
   "metadata": {},
   "outputs": [
    {
     "name": "stdout",
     "output_type": "stream",
     "text": [
      "[[1 2 3]\n",
      " [4 5 6]]\n",
      "(2, 3)\n"
     ]
    }
   ],
   "source": [
    "# 2D array\n",
    "# Rememebr to print its shape\n",
    "arr = np.array([[1, 2, 3], [4, 5, 6]])\n",
    "print(arr)\n",
    "print(arr.shape)"
   ]
  },
  {
   "cell_type": "code",
   "execution_count": 8,
   "metadata": {},
   "outputs": [
    {
     "name": "stdout",
     "output_type": "stream",
     "text": [
      "[[1. 1. 1.]\n",
      " [1. 1. 1.]]\n",
      "(2, 3)\n"
     ]
    }
   ],
   "source": [
    "# 2D ones array\n",
    "# Remember to print its shape\n",
    "ones_arr = np.ones((2,3))\n",
    "print(ones_arr)\n",
    "print(ones_arr.shape)"
   ]
  },
  {
   "cell_type": "code",
   "execution_count": 9,
   "metadata": {},
   "outputs": [
    {
     "name": "stdout",
     "output_type": "stream",
     "text": [
      "[[0. 0. 0.]\n",
      " [0. 0. 0.]]\n",
      "(2, 3)\n"
     ]
    }
   ],
   "source": [
    "# 2D zeros array\n",
    "# Remember to print its shape\n",
    "zeros_arr = np.zeros((2,3))\n",
    "print(zeros_arr)\n",
    "print(zeros_arr.shape)"
   ]
  },
  {
   "cell_type": "code",
   "execution_count": 10,
   "metadata": {},
   "outputs": [
    {
     "name": "stdout",
     "output_type": "stream",
     "text": [
      "[[2. 3. 4.]\n",
      " [5. 6. 7.]]\n"
     ]
    }
   ],
   "source": [
    "# Element-wise Addition\n",
    "arr_new = arr + ones_arr\n",
    "print(arr_new)"
   ]
  },
  {
   "cell_type": "code",
   "execution_count": 13,
   "metadata": {},
   "outputs": [
    {
     "name": "stdout",
     "output_type": "stream",
     "text": [
      "[[0. 0. 0.]\n",
      " [0. 0. 0.]]\n"
     ]
    }
   ],
   "source": [
    "# Element-wise Multiplication\n",
    "arr_new = arr * zeros_arr\n",
    "print(arr_new)"
   ]
  },
  {
   "cell_type": "code",
   "execution_count": 15,
   "metadata": {},
   "outputs": [
    {
     "name": "stdout",
     "output_type": "stream",
     "text": [
      "[[5. 5. 5.]\n",
      " [7. 7. 7.]\n",
      " [9. 9. 9.]]\n",
      "(3, 3)\n"
     ]
    }
   ],
   "source": [
    "# Dot Product\n",
    "# arr dot ones_arr\n",
    "# (2,3)。 (2,3)\n",
    "arr_new = arr.T.dot(ones_arr)\n",
    "print(arr_new)\n",
    "print(arr_new.shape)"
   ]
  },
  {
   "cell_type": "code",
   "execution_count": null,
   "metadata": {},
   "outputs": [],
   "source": []
  },
  {
   "cell_type": "code",
   "execution_count": null,
   "metadata": {},
   "outputs": [],
   "source": []
  },
  {
   "cell_type": "code",
   "execution_count": 16,
   "metadata": {},
   "outputs": [],
   "source": [
    "# Create 2D array with random values of shape (1000000, 1)\n",
    "rand1 = np.random.rand(1000000,1)\n",
    "rand2 = np.random.rand(1000000,1)"
   ]
  },
  {
   "cell_type": "code",
   "execution_count": null,
   "metadata": {},
   "outputs": [],
   "source": [
    "# TODO: Use vectorization to calculate the dot product\n",
    "# call time.time() twice to calculate the total run time "
   ]
  },
  {
   "cell_type": "code",
   "execution_count": 18,
   "metadata": {},
   "outputs": [],
   "source": [
    "begin = time.time()\n",
    "ans = rand1.T.dot(rand2)\n",
    "finish = time.time()"
   ]
  },
  {
   "cell_type": "code",
   "execution_count": 19,
   "metadata": {},
   "outputs": [
    {
     "name": "stdout",
     "output_type": "stream",
     "text": [
      "Ans: [[249858.49000224]]\n",
      "Time 0.017307758331298828\n"
     ]
    }
   ],
   "source": [
    "print('Ans:', ans)\n",
    "print('Time', finish-begin)"
   ]
  },
  {
   "cell_type": "code",
   "execution_count": null,
   "metadata": {},
   "outputs": [],
   "source": [
    "# TODO: Use for loop to calculate the dot product\n",
    "# call time.time() twice to calculate the total run time "
   ]
  },
  {
   "cell_type": "code",
   "execution_count": 20,
   "metadata": {},
   "outputs": [],
   "source": [
    "start = time.time()\n",
    "ans = 0\n",
    "for i in range(rand1.shape[0]):\n",
    "    ans += rand1[i][0]*rand2[i][0]\n",
    "end = time.time()"
   ]
  },
  {
   "cell_type": "code",
   "execution_count": 22,
   "metadata": {},
   "outputs": [
    {
     "name": "stdout",
     "output_type": "stream",
     "text": [
      "Ans: 249858.49000222588\n",
      "Time 1.5302791595458984\n"
     ]
    }
   ],
   "source": [
    "print('Ans:', ans)\n",
    "print('Time', end-start)"
   ]
  },
  {
   "cell_type": "code",
   "execution_count": null,
   "metadata": {},
   "outputs": [],
   "source": []
  }
 ],
 "metadata": {
  "kernelspec": {
   "display_name": "Python 3",
   "language": "python",
   "name": "python3"
  },
  "language_info": {
   "codemirror_mode": {
    "name": "ipython",
    "version": 3
   },
   "file_extension": ".py",
   "mimetype": "text/x-python",
   "name": "python",
   "nbconvert_exporter": "python",
   "pygments_lexer": "ipython3",
   "version": "3.7.9"
  }
 },
 "nbformat": 4,
 "nbformat_minor": 4
}
