{
 "cells": [
  {
   "cell_type": "code",
   "execution_count": 1,
   "metadata": {},
   "outputs": [],
   "source": [
    "#  File: stochastic_gradient_descent.ipynb\n",
    "#  ----------------------------\n",
    "#  This file shows student the fundamental concepts of \n",
    "#  machine learing:\n",
    "#      - loss function\n",
    "#      - cost function\n",
    "#      - linear regression\n",
    "#      - training process"
   ]
  },
  {
   "cell_type": "code",
   "execution_count": 2,
   "metadata": {},
   "outputs": [],
   "source": [
    "import matplotlib.pyplot as plt\n",
    "import numpy as np"
   ]
  },
  {
   "cell_type": "code",
   "execution_count": 6,
   "metadata": {},
   "outputs": [],
   "source": [
    "# This function computes the L2 loss which is \n",
    "# ----------------------------------------\n",
    "# [(theta*x+b - y)^2]\n",
    "# ----------------------------------------\n",
    "# of data (x, y) to the line y = theta*x + b\n",
    "# \n",
    "# theta: float, slop of the line\n",
    "# b: float, the point on y axis intersects with the line when x=0\n",
    "# x: float, 1 data point\n",
    "# y: float, 1 data point\n",
    "# return: float, the L2 loss of 1 data point\n",
    "\n",
    "def cost_function(theta, b, x, y):\n",
    "    return (theta*x+b-y)**2"
   ]
  },
  {
   "cell_type": "code",
   "execution_count": 7,
   "metadata": {},
   "outputs": [
    {
     "name": "stdout",
     "output_type": "stream",
     "text": [
      "0.25\n"
     ]
    }
   ],
   "source": [
    "# You should see 0.25\n",
    "print(cost_function(0.5, 1.5, 2, 2))"
   ]
  },
  {
   "cell_type": "code",
   "execution_count": null,
   "metadata": {},
   "outputs": [],
   "source": []
  },
  {
   "cell_type": "code",
   "execution_count": 8,
   "metadata": {},
   "outputs": [],
   "source": [
    "# This function returns the partial derivative of L2 loss function\n",
    "# with respect to theta: \n",
    "# --------------------------------------\n",
    "# 2(theta*x+b - y)*x\n",
    "# --------------------------------------\n",
    "# theta: float, slop of the line\n",
    "# b: float, the point on y axis intersects with the line when x=0\n",
    "# x: float, 1 data point\n",
    "# y: float, 1 data point\n",
    "# return: float, the dJ_dtheta of 1 data point\n",
    "\n",
    "def dJ_dtheta(theta, b, x, y):\n",
    "    return 2*(theta*x+b-y)*x"
   ]
  },
  {
   "cell_type": "code",
   "execution_count": 9,
   "metadata": {},
   "outputs": [
    {
     "name": "stdout",
     "output_type": "stream",
     "text": [
      "2.0\n"
     ]
    }
   ],
   "source": [
    "# You should see 2.0\n",
    "print(dJ_dtheta(0.5, 1.5, 2, 2))"
   ]
  },
  {
   "cell_type": "code",
   "execution_count": null,
   "metadata": {},
   "outputs": [],
   "source": []
  },
  {
   "cell_type": "code",
   "execution_count": 14,
   "metadata": {},
   "outputs": [],
   "source": [
    "# This function returns the partial derivative of L2 loss function\n",
    "# with respect to b: \n",
    "# --------------------------------------\n",
    "# 2(theta*x+b - y)\n",
    "# --------------------------------------\n",
    "# theta: float, slop of the line\n",
    "# b: float, the point on y axis intersects with the line when x=0\n",
    "# x: float, 1 data point\n",
    "# y: float, 1 data point\n",
    "# return: float, the dJ_db of 1 data point\n",
    "\n",
    "def dJ_db(theta, b, x, y):\n",
    "    return 2*(theta*x+b-y)"
   ]
  },
  {
   "cell_type": "code",
   "execution_count": 15,
   "metadata": {},
   "outputs": [
    {
     "name": "stdout",
     "output_type": "stream",
     "text": [
      "1.0\n"
     ]
    }
   ],
   "source": [
    "# You should see 1.0\n",
    "print(dJ_db(0.5, 1.5, 2, 2))"
   ]
  },
  {
   "cell_type": "code",
   "execution_count": null,
   "metadata": {},
   "outputs": [],
   "source": []
  },
  {
   "cell_type": "code",
   "execution_count": 16,
   "metadata": {},
   "outputs": [],
   "source": [
    "# ---------- DO NOT EDIT THE CODE BELOW THIS LINE ---------- #"
   ]
  },
  {
   "cell_type": "code",
   "execution_count": 17,
   "metadata": {},
   "outputs": [],
   "source": [
    "x = [6.1101,5.5277,8.5186,7.0032,5.8598,8.3829,7.4764,8.5781,6.4862,5.0546,5.7107,10.164,5.734,8.4084,5.6407,5.3794,6.3654,5.1301,6.4296,7.0708,6.1891]"
   ]
  },
  {
   "cell_type": "code",
   "execution_count": 18,
   "metadata": {},
   "outputs": [],
   "source": [
    "y = [6.592,9.1302,13.662,11.854,6.8233,11.886,4.3483,12,6.5987,3.8166,3.2522,15.505,3.1551,7.2258,0.71618,3.5129,5.3048,0.56077,3.6518,5.3893,3.1386]"
   ]
  },
  {
   "cell_type": "code",
   "execution_count": 19,
   "metadata": {},
   "outputs": [],
   "source": [
    "# ---------- Showing your data ---------- #"
   ]
  },
  {
   "cell_type": "code",
   "execution_count": 20,
   "metadata": {},
   "outputs": [
    {
     "data": {
      "text/plain": [
       "(0.0, 30.0)"
      ]
     },
     "execution_count": 20,
     "metadata": {},
     "output_type": "execute_result"
    },
    {
     "data": {
      "image/png": "[encoded data removed]",
      "text/plain": [
       "<Figure size 432x288 with 1 Axes>"
      ]
     },
     "metadata": {
      "needs_background": "light"
     },
     "output_type": "display_data"
    }
   ],
   "source": [
    "plt.scatter(x, y)\n",
    "axes = plt.gca()\n",
    "axes.set_xlim([0,12])\n",
    "axes.set_ylim([0,30])"
   ]
  },
  {
   "cell_type": "code",
   "execution_count": null,
   "metadata": {},
   "outputs": [],
   "source": [
    "# ---------- Initialize your theta ---------- #"
   ]
  },
  {
   "cell_type": "code",
   "execution_count": null,
   "metadata": {},
   "outputs": [],
   "source": [
    "theta = #####TODO#####\n",
    "b = #####TODO#####"
   ]
  },
  {
   "cell_type": "code",
   "execution_count": null,
   "metadata": {},
   "outputs": [],
   "source": [
    "# ---------- Initialize your alpha ---------- #"
   ]
  },
  {
   "cell_type": "code",
   "execution_count": null,
   "metadata": {},
   "outputs": [],
   "source": [
    "# TODO: which value is appropriate for an ideal alpha?"
   ]
  },
  {
   "cell_type": "code",
   "execution_count": null,
   "metadata": {},
   "outputs": [],
   "source": [
    "alpha = #####TODO#####"
   ]
  },
  {
   "cell_type": "code",
   "execution_count": null,
   "metadata": {},
   "outputs": [],
   "source": [
    "# ---------- Training process ---------- #\n",
    "# ---- 11 iterations over all data ----- #"
   ]
  },
  {
   "cell_type": "code",
   "execution_count": null,
   "metadata": {},
   "outputs": [],
   "source": [
    "theta_history = []\n",
    "b_history = []\n",
    "cost_history = []\n",
    "# In SGD, we name 'iteration' as 'epoch'!\n",
    "for epoch in range(110):\n",
    "    ############\n",
    "    ##  TODO  ##\n",
    "    ############\n",
    "        "
   ]
  },
  {
   "cell_type": "code",
   "execution_count": null,
   "metadata": {},
   "outputs": [],
   "source": [
    "# ---------- Theta changes during training process ---------- #"
   ]
  },
  {
   "cell_type": "code",
   "execution_count": null,
   "metadata": {},
   "outputs": [],
   "source": [
    "print(cost_history)"
   ]
  },
  {
   "cell_type": "code",
   "execution_count": null,
   "metadata": {},
   "outputs": [],
   "source": [
    "theta = theta_history[0]\n",
    "b = b_history[0]\n",
    "\n",
    "print(f'theta: {theta}, b = {b}')\n",
    "\n",
    "x_plot = np.linspace(0, 12, 140)\n",
    "y_plot = theta*x_plot + b\n",
    "\n",
    "\n",
    "plt.scatter(x_plot, y_plot, s=8, color='red')\n",
    "plt.scatter(x, y, color='blue')\n",
    "\n",
    "plt.title(\"0 epoch\", color='red', fontdict = {'fontsize': 20})\n",
    "plt.show()"
   ]
  },
  {
   "cell_type": "code",
   "execution_count": null,
   "metadata": {},
   "outputs": [],
   "source": [
    "theta = theta_history[1]\n",
    "b = b_history[1]\n",
    "\n",
    "print(f'theta: {theta}, b = {b}')\n",
    "\n",
    "x_plot = np.linspace(0, 12, 140)\n",
    "y_plot = theta*x_plot + b\n",
    "\n",
    "\n",
    "plt.scatter(x_plot, y_plot, s=8, color='red')\n",
    "plt.scatter(x, y, color='blue')\n",
    "\n",
    "plt.title(\"1 epoch\", color='red', fontdict = {'fontsize': 20})\n",
    "plt.show()"
   ]
  },
  {
   "cell_type": "code",
   "execution_count": null,
   "metadata": {},
   "outputs": [],
   "source": [
    "theta = theta_history[2]\n",
    "b = b_history[2]\n",
    "\n",
    "print(f'theta: {theta}, b = {b}')\n",
    "\n",
    "x_plot = np.linspace(0, 12, 140)\n",
    "y_plot = theta*x_plot + b\n",
    "\n",
    "\n",
    "plt.scatter(x_plot, y_plot, s=8, color='red')\n",
    "plt.scatter(x, y, color='blue')\n",
    "\n",
    "plt.title(\"2 epoch\", color='red', fontdict = {'fontsize': 20})\n",
    "plt.show()"
   ]
  },
  {
   "cell_type": "code",
   "execution_count": null,
   "metadata": {},
   "outputs": [],
   "source": [
    "theta = theta_history[3]\n",
    "b = b_history[3]\n",
    "\n",
    "print(f'theta: {theta}, b = {b}')\n",
    "\n",
    "x_plot = np.linspace(0, 12, 140)\n",
    "y_plot = theta*x_plot + b\n",
    "\n",
    "\n",
    "plt.scatter(x_plot, y_plot, s=8, color='red')\n",
    "plt.scatter(x, y, color='blue')\n",
    "\n",
    "plt.title(\"3 epoch\", color='red', fontdict = {'fontsize': 20})\n",
    "plt.show()"
   ]
  },
  {
   "cell_type": "code",
   "execution_count": null,
   "metadata": {},
   "outputs": [],
   "source": [
    "theta = theta_history[4]\n",
    "b = b_history[4]\n",
    "\n",
    "print(f'theta: {theta}, b = {b}')\n",
    "\n",
    "x_plot = np.linspace(0, 12, 140)\n",
    "y_plot = theta*x_plot + b\n",
    "\n",
    "\n",
    "plt.scatter(x_plot, y_plot, s=8, color='red')\n",
    "plt.scatter(x, y, color='blue')\n",
    "\n",
    "plt.title(\"4 epoch\", color='red', fontdict = {'fontsize': 20})\n",
    "plt.show()"
   ]
  },
  {
   "cell_type": "code",
   "execution_count": null,
   "metadata": {},
   "outputs": [],
   "source": [
    "theta = theta_history[5]\n",
    "b = b_history[5]\n",
    "\n",
    "print(f'theta: {theta}, b = {b}')\n",
    "\n",
    "x_plot = np.linspace(0, 12, 140)\n",
    "y_plot = theta*x_plot + b\n",
    "\n",
    "\n",
    "plt.scatter(x_plot, y_plot, s=8, color='red')\n",
    "plt.scatter(x, y, color='blue')\n",
    "\n",
    "plt.title(\"5 epoch\", color='red', fontdict = {'fontsize': 20})\n",
    "plt.show()"
   ]
  },
  {
   "cell_type": "code",
   "execution_count": null,
   "metadata": {},
   "outputs": [],
   "source": [
    "# ---------- Plot the errors over the training process ---------- #"
   ]
  },
  {
   "cell_type": "code",
   "execution_count": null,
   "metadata": {},
   "outputs": [],
   "source": [
    "plot_x = list(range(len(cost_history)))\n",
    "plot_y = cost_history\n",
    "plt.plot(plot_x, plot_y)\n",
    "plt.title(\"Errors over epochs\", color = 'blue')"
   ]
  },
  {
   "cell_type": "code",
   "execution_count": null,
   "metadata": {},
   "outputs": [],
   "source": [
    "if b > 0:\n",
    "    print(f'############ Final equation: y = {theta_history[-1]}x+{b} ############')\n",
    "else:\n",
    "    print(f'############ Final equation: y = {theta_history[-1]}x{b} ############')"
   ]
  },
  {
   "cell_type": "code",
   "execution_count": null,
   "metadata": {},
   "outputs": [],
   "source": []
  },
  {
   "cell_type": "code",
   "execution_count": null,
   "metadata": {},
   "outputs": [],
   "source": [
    "theta = theta_history[-1]\n",
    "b = b_history[-1]\n",
    "\n",
    "print(f'theta: {theta}, b = {b}')\n",
    "\n",
    "x_plot = np.linspace(0, 12, 140)\n",
    "y_plot = theta*x_plot + b\n",
    "\n",
    "\n",
    "plt.scatter(x_plot, y_plot, s=8, color='red')\n",
    "plt.scatter(x, y, color='blue')\n",
    "\n",
    "plt.title(\"Final Model\", color='red', fontdict = {'fontsize': 20})\n",
    "plt.show()"
   ]
  },
  {
   "cell_type": "code",
   "execution_count": null,
   "metadata": {},
   "outputs": [],
   "source": []
  },
  {
   "cell_type": "code",
   "execution_count": null,
   "metadata": {},
   "outputs": [],
   "source": []
  }
 ],
 "metadata": {
  "kernelspec": {
   "display_name": "Python 3",
   "language": "python",
   "name": "python3"
  },
  "language_info": {
   "codemirror_mode": {
    "name": "ipython",
    "version": 3
   },
   "file_extension": ".py",
   "mimetype": "text/x-python",
   "name": "python",
   "nbconvert_exporter": "python",
   "pygments_lexer": "ipython3",
   "version": "3.7.9"
  }
 },
 "nbformat": 4,
 "nbformat_minor": 4
}
