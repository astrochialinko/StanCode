{
 "cells": [
  {
   "cell_type": "code",
   "execution_count": 1,
   "metadata": {},
   "outputs": [],
   "source": [
    "#  File: logistic_regression.ipynb\n",
    "#  ----------------------------\n",
    "#  This file shows the foundamental math equations\n",
    "#  in logistic regression, including:\n",
    "#      - sigmoid function\n",
    "#      - loss function\n",
    "#      - cost function"
   ]
  },
  {
   "cell_type": "code",
   "execution_count": 2,
   "metadata": {},
   "outputs": [],
   "source": [
    "import matplotlib.pyplot as plt\n",
    "import numpy as np\n",
    "import math\n",
    "import random"
   ]
  },
  {
   "cell_type": "code",
   "execution_count": 3,
   "metadata": {},
   "outputs": [],
   "source": [
    "# sigmoid function which is\n",
    "# ----------------------------------------\n",
    "# [1 / (1+math.exp(-k))]\n",
    "# ----------------------------------------\n",
    "# :param k: float, usually obtained from theta*x_i\n",
    "# :return: float, the probability of k being 1\n",
    "# The outputs are bounded between 0-1\n",
    "\n",
    "def sigmoid(k):\n",
    "    return 1/(1+math.exp(-k))\n",
    "    "
   ]
  },
  {
   "cell_type": "code",
   "execution_count": null,
   "metadata": {},
   "outputs": [],
   "source": []
  },
  {
   "cell_type": "code",
   "execution_count": 4,
   "metadata": {},
   "outputs": [
    {
     "name": "stdout",
     "output_type": "stream",
     "text": [
      "0.5\n"
     ]
    }
   ],
   "source": [
    "# You should see 0.5\n",
    "print(sigmoid(0))"
   ]
  },
  {
   "cell_type": "code",
   "execution_count": 5,
   "metadata": {},
   "outputs": [
    {
     "name": "stdout",
     "output_type": "stream",
     "text": [
      "0.9999546021312976\n"
     ]
    }
   ],
   "source": [
    "# You should see a value that is very close to 1 (0.9999546021312976)\n",
    "print(sigmoid(10))"
   ]
  },
  {
   "cell_type": "code",
   "execution_count": 6,
   "metadata": {},
   "outputs": [
    {
     "name": "stdout",
     "output_type": "stream",
     "text": [
      "4.5397868702434395e-05\n"
     ]
    }
   ],
   "source": [
    "# You should see a value that is very close to 0 (4.5397868702434395e-05)\n",
    "print(sigmoid(-10))"
   ]
  },
  {
   "cell_type": "code",
   "execution_count": 7,
   "metadata": {},
   "outputs": [
    {
     "data": {
      "text/plain": [
       "<matplotlib.collections.PathCollection at 0x115c27d10>"
      ]
     },
     "execution_count": 7,
     "metadata": {},
     "output_type": "execute_result"
    },
    {
     "data": {
      "image/png": "[encoded data removed]",
      "text/plain": [
       "<Figure size 432x288 with 1 Axes>"
      ]
     },
     "metadata": {
      "needs_background": "light"
     },
     "output_type": "display_data"
    }
   ],
   "source": [
    "x_plot = np.linspace(-10, 10, 240)\n",
    "y_plot = 1/(1+np.exp(-x_plot))\n",
    "plt.scatter(x_plot, y_plot, s=8, color='red')\n",
    "\n",
    "vertical_x = np.linspace(0, 0, 30)\n",
    "vertical_y = np.linspace(0, 0.5 ,30)\n",
    "\n",
    "horizontal_x = np.linspace(-10, 0, 41)\n",
    "horizontal_y = np.linspace(0.5, 0.5, 41)\n",
    "\n",
    "plt.scatter(vertical_x, vertical_y, s=8, color='blue')\n",
    "plt.scatter(horizontal_x, horizontal_y, s=8, color='blue')"
   ]
  },
  {
   "cell_type": "code",
   "execution_count": null,
   "metadata": {},
   "outputs": [],
   "source": []
  },
  {
   "cell_type": "code",
   "execution_count": 8,
   "metadata": {},
   "outputs": [],
   "source": [
    "# loss function for logistic regression which is\n",
    "# ----------------------------------------\n",
    "# L = -(y*math.log(h)+(1-y)*math.log(1-h))\n",
    "# ----------------------------------------\n",
    "# :param y: int, binary digit of 0 and 1\n",
    "# :param h: float, the probability of data being 1\n",
    "# :return: float, the loss of predicting y correctly\n",
    "\n",
    "def loss_function(y, h):\n",
    "    return -(y*math.log(h)+(1-y)*math.log(1-h))"
   ]
  },
  {
   "cell_type": "code",
   "execution_count": 9,
   "metadata": {},
   "outputs": [
    {
     "name": "stdout",
     "output_type": "stream",
     "text": [
      "Loss: 0.16251892949777494\n"
     ]
    }
   ],
   "source": [
    "# When label is 1 and you give 85% confidence it is 1\n",
    "# You should see Loss: 0.16251892949777494\n",
    "print('Loss:', loss_function(1, 0.85))"
   ]
  },
  {
   "cell_type": "code",
   "execution_count": 10,
   "metadata": {},
   "outputs": [
    {
     "name": "stdout",
     "output_type": "stream",
     "text": [
      "Loss: 1.6094379124341003\n"
     ]
    }
   ],
   "source": [
    "# When label is 1 but you give 20% confidence it is 1\n",
    "# You should see Loss: 1.6094379124341003\n",
    "print('Loss:', loss_function(1, 0.2))"
   ]
  },
  {
   "cell_type": "code",
   "execution_count": 11,
   "metadata": {},
   "outputs": [
    {
     "data": {
      "text/plain": [
       "Text(0.5, 1.0, '(y==1) Loss = -log(h)')"
      ]
     },
     "execution_count": 11,
     "metadata": {},
     "output_type": "execute_result"
    },
    {
     "data": {
      "image/png": "[encoded data removed]",
      "text/plain": [
       "<Figure size 432x288 with 1 Axes>"
      ]
     },
     "metadata": {
      "needs_background": "light"
     },
     "output_type": "display_data"
    }
   ],
   "source": [
    "# Loss function when label is 1\n",
    "x_plot = np.linspace(0.1, 1, 240)\n",
    "y_plot = -np.log(x_plot)\n",
    "plt.scatter(x_plot, y_plot, s=8, color='red')\n",
    "\n",
    "horizontal_x = np.linspace(0.1, 1, 31)\n",
    "horizontal_y = np.linspace(0, 0, 31)\n",
    "\n",
    "plt.scatter(horizontal_x, horizontal_y, s=8, color='blue')\n",
    "plt.title('(y==1) Loss = -log(h)', color='red', fontdict = {'fontsize': 20})"
   ]
  },
  {
   "cell_type": "code",
   "execution_count": 12,
   "metadata": {},
   "outputs": [
    {
     "name": "stdout",
     "output_type": "stream",
     "text": [
      "Loss: 1.897119984885881\n"
     ]
    }
   ],
   "source": [
    "# When label is 0 but you give 85% confidence it is 1\n",
    "# You should see Loss: 1.897119984885881\n",
    "print('Loss:', loss_function(0, 0.85))"
   ]
  },
  {
   "cell_type": "code",
   "execution_count": 13,
   "metadata": {},
   "outputs": [
    {
     "name": "stdout",
     "output_type": "stream",
     "text": [
      "Loss: 0.2231435513142097\n"
     ]
    }
   ],
   "source": [
    "# When label is 0 and you give 20% confidence it is 1\n",
    "# You should see Loss: 0.2231435513142097\n",
    "print('Loss:', loss_function(0, 0.2))"
   ]
  },
  {
   "cell_type": "code",
   "execution_count": 14,
   "metadata": {},
   "outputs": [
    {
     "data": {
      "text/plain": [
       "Text(0.5, 1.0, '(y==0) Loss = -log(1-h)')"
      ]
     },
     "execution_count": 14,
     "metadata": {},
     "output_type": "execute_result"
    },
    {
     "data": {
      "image/png": "[encoded data removed]",
      "text/plain": [
       "<Figure size 432x288 with 1 Axes>"
      ]
     },
     "metadata": {
      "needs_background": "light"
     },
     "output_type": "display_data"
    }
   ],
   "source": [
    "# Loss function when label is 0\n",
    "x_plot = np.linspace(0, 0.9, 240)\n",
    "y_plot = -np.log(1-x_plot)\n",
    "plt.scatter(x_plot, y_plot, s=8, color='red')\n",
    "\n",
    "horizontal_x = np.linspace(0, 1, 31)\n",
    "horizontal_y = np.linspace(0, 0, 31)\n",
    "\n",
    "plt.scatter(horizontal_x, horizontal_y, s=8, color='blue')\n",
    "plt.title('(y==0) Loss = -log(1-h)', color='red', fontdict = {'fontsize': 20})"
   ]
  },
  {
   "cell_type": "code",
   "execution_count": null,
   "metadata": {},
   "outputs": [],
   "source": []
  },
  {
   "cell_type": "code",
   "execution_count": 15,
   "metadata": {},
   "outputs": [],
   "source": [
    "# cost function of the logistic regression which is\n",
    "# ----------------------------------------\n",
    "# sum[-y_i*math.log(h_i)-(1-y_i)*math.log(1-h_i)]/len(x) \n",
    "# where h = sigmoid(theta*x_i)\n",
    "# ----------------------------------------\n",
    "# :param x: list[int], input data\n",
    "# :param y: list[int], labels of 0's and 1's\n",
    "# :param theta: the parameter of input data\n",
    "# :param b: the extra parater of input data\n",
    "# :return: float, the sum of each loss of predicting y correctly\n",
    "\n",
    "def cost_function(x, y, theta):\n",
    "    return sum( -(y[i]*math.log(sigmoid(theta*x[i])))-(1-y[i])*math.log(1-sigmoid(theta*x[i]))  for i in range(len(x))   )/len(x)\n",
    "    "
   ]
  },
  {
   "cell_type": "code",
   "execution_count": 16,
   "metadata": {},
   "outputs": [
    {
     "name": "stdout",
     "output_type": "stream",
     "text": [
      "1.0289199901810133\n"
     ]
    }
   ],
   "source": [
    "# You should see 1.0289199901810133\n",
    "print(cost_function([-1, -2, 3, 4], [0, 1, 1, 0], 0.5))"
   ]
  }
 ],
 "metadata": {
  "kernelspec": {
   "display_name": "Python 3",
   "language": "python",
   "name": "python3"
  },
  "language_info": {
   "codemirror_mode": {
    "name": "ipython",
    "version": 3
   },
   "file_extension": ".py",
   "mimetype": "text/x-python",
   "name": "python",
   "nbconvert_exporter": "python",
   "pygments_lexer": "ipython3",
   "version": "3.7.9"
  }
 },
 "nbformat": 4,
 "nbformat_minor": 4
}
