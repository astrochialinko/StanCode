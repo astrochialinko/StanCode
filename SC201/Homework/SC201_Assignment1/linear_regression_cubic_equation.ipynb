{
 "cells": [
  {
   "cell_type": "code",
   "execution_count": 1,
   "metadata": {},
   "outputs": [],
   "source": [
    "# File: linear_regression_one_varialbe\n",
    "# Name: Chia-Lin Ko\n",
    "# ----------------------------\n",
    "# This file shows the fundamental concepts of \n",
    "# machine learing:\n",
    "#   - loss function\n",
    "#   - cost function\n",
    "#   - linear regression\n",
    "#.  - polynomial features\n",
    "#   - training process"
   ]
  },
  {
   "cell_type": "code",
   "execution_count": 2,
   "metadata": {},
   "outputs": [],
   "source": [
    "import matplotlib.pyplot as plt\n",
    "import numpy as np"
   ]
  },
  {
   "cell_type": "markdown",
   "metadata": {},
   "source": [
    "$J(\\theta_3, \\theta_2, \\theta_1, b) = \n",
    "\\frac{1}{2m} \\sum_{i=1}^{m} (\\theta_1 x_i^3 + \\theta_2 x_i^2 +\\theta_3 x_i + b - y_i)^2$"
   ]
  },
  {
   "cell_type": "code",
   "execution_count": 3,
   "metadata": {},
   "outputs": [],
   "source": [
    "# This function computes the L2 loss which is \n",
    "# ----------------------------------------\n",
    "# [sum of (hypothesis(x_i) - y_i)^2] / 2*m\n",
    "# where hypothesis(x_i) == theta1(x_i^3) + theta2(x_i^2) + theta3(x_i) + b\n",
    "# ----------------------------------------\n",
    "# x_list: list, containing 21 data points\n",
    "# y_list: list, containing 21 data points\n",
    "# theta1: float, the parameter of x_i^3\n",
    "# theta2: float, the parameter of x_i^2\n",
    "# theta3: float, the parameter of x_i\n",
    "# b     : float, the parameter that controls the amount of line shift\n",
    "# return: floar, the sum over all L2 losses of data points\n",
    "\n",
    "def cost_function(theta1, theta2, theta3, b, x, y):\n",
    "    return sum((theta1*x[i]**3+theta2*x[i]**2+theta3*x[i]+b-y[i])**2  for i in range(len(x)))/(2*len(x))"
   ]
  },
  {
   "cell_type": "code",
   "execution_count": 4,
   "metadata": {},
   "outputs": [
    {
     "name": "stdout",
     "output_type": "stream",
     "text": [
      "0.14631688333333334\n"
     ]
    }
   ],
   "source": [
    "# Test for cost_function. You should see 0.14631688333333334\n",
    "print(cost_function(0.1, 0.2, 0.3, -0.5, [0.3, 0.4, 0.5], [0.1, 0.2, 0.3]))"
   ]
  },
  {
   "cell_type": "markdown",
   "metadata": {},
   "source": [
    "$\\frac{\\partial J}{\\partial \\theta_1} = \\frac{1}{m} \\sum_{i=1}^{m} (\\theta_1 x_i^3 + \\theta_2 x_i^2 +\\theta_3 x_i + b - y_i) (x_i^3)$"
   ]
  },
  {
   "cell_type": "code",
   "execution_count": 5,
   "metadata": {},
   "outputs": [],
   "source": [
    "def dJ_dtheta1(theta1, theta2, theta3, b, x, y):\n",
    "    return sum( (theta1*x[i]**3+theta2*x[i]**2+theta3*x[i]+b-y[i])*x[i]**3 for i in range(len(x)))/len(x)"
   ]
  },
  {
   "cell_type": "code",
   "execution_count": 6,
   "metadata": {},
   "outputs": [
    {
     "name": "stdout",
     "output_type": "stream",
     "text": [
      "-0.040437\n"
     ]
    }
   ],
   "source": [
    "# Test for dJ_dtheta1. You should see -0.040437\n",
    "print(dJ_dtheta1(0.1, 0.2, 0.3, -0.5, [0.3, 0.4, 0.5], [0.1, 0.2, 0.3]))"
   ]
  },
  {
   "cell_type": "markdown",
   "metadata": {},
   "source": [
    "$\\frac{\\partial J}{\\partial \\theta_2} = \\frac{1}{m} \\sum_{i=1}^{m} (\\theta_1 x_i^3 + \\theta_2 x_i^2 +\\theta_3 x_i + b - y_i) (x_i^2)$"
   ]
  },
  {
   "cell_type": "code",
   "execution_count": 7,
   "metadata": {},
   "outputs": [],
   "source": [
    "def dJ_dtheta2(theta1, theta2, theta3, b, x, y):\n",
    "    return sum( (theta1*x[i]**3+theta2*x[i]**2+theta3*x[i]+b-y[i])*x[i]**2 for i in range(len(x)))/len(x)"
   ]
  },
  {
   "cell_type": "code",
   "execution_count": 8,
   "metadata": {},
   "outputs": [
    {
     "name": "stdout",
     "output_type": "stream",
     "text": [
      "-0.09252266666666666\n"
     ]
    }
   ],
   "source": [
    "# Test for dJ_dtheta2. You should see -0.09252266666666666\n",
    "print(dJ_dtheta2(0.1, 0.2, 0.3, -0.5, [0.3, 0.4, 0.5], [0.1, 0.2, 0.3]))"
   ]
  },
  {
   "cell_type": "markdown",
   "metadata": {},
   "source": [
    "$\\frac{\\partial J}{\\partial \\theta_1} = \\frac{1}{m} \\sum_{i=1}^{m} (\\theta_1 x_i^3 + \\theta_2 x_i^2 +\\theta_3 x_i + b - y_i) (x_i)$"
   ]
  },
  {
   "cell_type": "code",
   "execution_count": 9,
   "metadata": {},
   "outputs": [],
   "source": [
    "def dJ_dtheta3(theta1, theta2, theta3, b, x, y):\n",
    "    return sum( (theta1*x[i]**3+theta2*x[i]**2+theta3*x[i]+b-y[i])*x[i] for i in range(len(x)))/len(x)"
   ]
  },
  {
   "cell_type": "code",
   "execution_count": 10,
   "metadata": {},
   "outputs": [
    {
     "name": "stdout",
     "output_type": "stream",
     "text": [
      "-0.21906\n"
     ]
    }
   ],
   "source": [
    "# Test for dJ_dtheta3. You should see -0.21906\n",
    "print(dJ_dtheta3(0.1, 0.2, 0.3, -0.5, [0.3, 0.4, 0.5], [0.1, 0.2, 0.3]))"
   ]
  },
  {
   "cell_type": "markdown",
   "metadata": {},
   "source": [
    "$\\frac{\\partial J}{\\partial b} = \\frac{1}{m} \\sum_{i=1}^{m} (\\theta_1 x_i^3 + \\theta_2 x_i^2 +\\theta_3 x_i + b - y_i)$"
   ]
  },
  {
   "cell_type": "code",
   "execution_count": 11,
   "metadata": {},
   "outputs": [],
   "source": [
    "def dJ_db(theta1, theta2, theta3, b, x, y):\n",
    "    return sum( (theta1*x[i]**3+theta2*x[i]**2+theta3*x[i]+b-y[i]) for i in range(len(x)))/len(x)"
   ]
  },
  {
   "cell_type": "code",
   "execution_count": 12,
   "metadata": {},
   "outputs": [
    {
     "name": "stdout",
     "output_type": "stream",
     "text": [
      "-0.5394666666666666\n"
     ]
    }
   ],
   "source": [
    "# Test for dJ_db. You should see -0.5394666666666666\n",
    "print(dJ_db(0.1, 0.2, 0.3, -0.5, [0.3, 0.4, 0.5], [0.1, 0.2, 0.3]))"
   ]
  },
  {
   "cell_type": "code",
   "execution_count": 13,
   "metadata": {},
   "outputs": [],
   "source": [
    "# ---------- DO NOT EDIT THE CODE BELOW THIS LINE ---------- #"
   ]
  },
  {
   "cell_type": "code",
   "execution_count": 14,
   "metadata": {},
   "outputs": [],
   "source": [
    "x = [6.1101,5.5277,8.5186,7.0032,5.8598,8.3829,7.4764,8.5781,6.4862,5.0546,5.7107,10.164,5.734,8.4084,5.6407,5.3794,6.3654,5.1301,6.4296,7.0708,6.1891]"
   ]
  },
  {
   "cell_type": "code",
   "execution_count": 15,
   "metadata": {},
   "outputs": [],
   "source": [
    "y = [6.592,9.1302,13.662,11.854,6.8233,11.886,4.3483,12,6.5987,3.8166,3.2522,15.505,3.1551,7.2258,0.71618,3.5129,5.3048,0.56077,3.6518,5.3893,3.1386]"
   ]
  },
  {
   "cell_type": "code",
   "execution_count": 16,
   "metadata": {},
   "outputs": [],
   "source": [
    "# ---------- Showing your data ---------- #"
   ]
  },
  {
   "cell_type": "code",
   "execution_count": 17,
   "metadata": {},
   "outputs": [
    {
     "data": {
      "text/plain": [
       "(0.0, 30.0)"
      ]
     },
     "execution_count": 17,
     "metadata": {},
     "output_type": "execute_result"
    },
    {
     "data": {
      "image/png": "[encoded data removed]",
      "text/plain": [
       "<Figure size 432x288 with 1 Axes>"
      ]
     },
     "metadata": {
      "needs_background": "light"
     },
     "output_type": "display_data"
    }
   ],
   "source": [
    "plt.scatter(x, y)\n",
    "axes = plt.gca()\n",
    "axes.set_xlim([0,12])\n",
    "axes.set_ylim([0,30])"
   ]
  },
  {
   "cell_type": "code",
   "execution_count": 18,
   "metadata": {},
   "outputs": [],
   "source": [
    "# Please do feature scaling (normalization) by: \n",
    "# subtracting min(x) from each data point and dividing the result with (max(x)-min(x))\n",
    "x = list( (x[i]-min(x))/( max(x)-min(x)) for i in range(len(x)))\n",
    "y = list( (y[i]-min(y))/( max(y)-min(y)) for i in range(len(y)))"
   ]
  },
  {
   "cell_type": "code",
   "execution_count": 19,
   "metadata": {},
   "outputs": [
    {
     "name": "stdout",
     "output_type": "stream",
     "text": [
      "0.12841038086663803\n",
      "0.18009827204211928\n"
     ]
    }
   ],
   "source": [
    "print(x[10])         # You should see 0.12841038086663803\n",
    "print(y[10])         # You should see 0.18009827204211928"
   ]
  },
  {
   "cell_type": "code",
   "execution_count": 20,
   "metadata": {},
   "outputs": [
    {
     "data": {
      "text/plain": [
       "(0.0, 2.0)"
      ]
     },
     "execution_count": 20,
     "metadata": {},
     "output_type": "execute_result"
    },
    {
     "data": {
      "image/png": "[encoded data removed]",
      "text/plain": [
       "<Figure size 432x288 with 1 Axes>"
      ]
     },
     "metadata": {
      "needs_background": "light"
     },
     "output_type": "display_data"
    }
   ],
   "source": [
    "plt.scatter(x, y)\n",
    "axes = plt.gca()\n",
    "axes.set_xlim([-1,1.5])\n",
    "axes.set_ylim([0,2])"
   ]
  },
  {
   "cell_type": "code",
   "execution_count": 21,
   "metadata": {},
   "outputs": [],
   "source": [
    "# ------------ Initialize your theta ------------ #\n",
    "# ---------  Choose from -1 to +1 ---------- #"
   ]
  },
  {
   "cell_type": "code",
   "execution_count": 22,
   "metadata": {},
   "outputs": [],
   "source": [
    "theta1 = -0.2        \n",
    "theta2 = 0.5\n",
    "theta3 = 0.5\n",
    "b = 0.5\n"
   ]
  },
  {
   "cell_type": "code",
   "execution_count": 23,
   "metadata": {},
   "outputs": [],
   "source": [
    "# ---------- Initialize your alpha ---------- #"
   ]
  },
  {
   "cell_type": "code",
   "execution_count": 24,
   "metadata": {},
   "outputs": [],
   "source": [
    "# TODO: which value is appropriate for alpha?\n",
    "# Try 0.001, 0.01, 0.1"
   ]
  },
  {
   "cell_type": "code",
   "execution_count": 25,
   "metadata": {},
   "outputs": [],
   "source": [
    "alpha = 0.1"
   ]
  },
  {
   "cell_type": "code",
   "execution_count": 26,
   "metadata": {},
   "outputs": [],
   "source": [
    "# ---------- Training process ---------- #\n",
    "# ---- 50 iterations over all data ----- # "
   ]
  },
  {
   "cell_type": "code",
   "execution_count": 27,
   "metadata": {},
   "outputs": [],
   "source": [
    "# Remember to append updated theta1, theta2, theta3, b to \n",
    "# The lists as well as the updated cost.\n",
    "\n",
    "theta1_history = []\n",
    "theta2_history = []\n",
    "theta3_history = []\n",
    "b_history = []\n",
    "cost_history = []\n",
    "for i in range(50):\n",
    "    theta1_history.append(theta1)\n",
    "    theta2_history.append(theta2)\n",
    "    theta3_history.append(theta3)\n",
    "    b_history.append(b)\n",
    "    cost = cost_function(theta1, theta2, theta3, b, x, y)\n",
    "    cost_history.append(cost)\n",
    "    \n",
    "    # Steeptest decscent\n",
    "    temp_theta1 = theta1\n",
    "    temp_theta2 = theta2\n",
    "    temp_theta3 = theta3\n",
    "    temp_b = b\n",
    "    \n",
    "    theta1 = temp_theta1- alpha*dJ_dtheta1(temp_theta1, temp_theta2, temp_theta3, temp_b, x, y)\n",
    "    theta2 = temp_theta2- alpha*dJ_dtheta2(temp_theta1, temp_theta2, temp_theta3, temp_b, x, y)\n",
    "    theta3 = temp_theta3- alpha*dJ_dtheta3(temp_theta1, temp_theta2, temp_theta3, temp_b, x, y)\n",
    "    b = temp_b- alpha*dJ_db(temp_theta1, temp_theta2, temp_theta3, temp_b, x, y)"
   ]
  },
  {
   "cell_type": "code",
   "execution_count": 28,
   "metadata": {},
   "outputs": [],
   "source": [
    "# ---------- Cost changes during training process ---------- #"
   ]
  },
  {
   "cell_type": "code",
   "execution_count": 29,
   "metadata": {},
   "outputs": [
    {
     "name": "stdout",
     "output_type": "stream",
     "text": [
      "[0.06664699844792138, 0.055288442308969996, 0.04643318321001547, 0.039527438018938675, 0.034139994745120146, 0.029935081493679665, 0.02665124091527073, 0.02408488082479581, 0.02207746591116456, 0.02050554457649872, 0.01927298334418255, 0.01830492018678123, 0.0175430562881447, 0.01694198997517558, 0.016466362133400886, 0.01608863348319739, 0.01578735385341166, 0.015545814548085402, 0.015350999008145174, 0.015192765740126148, 0.015063212099391371, 0.01495617889555775, 0.014866864649051837, 0.014791525227485567, 0.01472723996303418, 0.01467172953528005, 0.014623214161291429, 0.014580303170999887, 0.014541909020822514, 0.01450718033621303, 0.01447544977118362, 0.014446193405159867, 0.014418999123480694, 0.01439354199311514, 0.014369565085306226, 0.014346864539565532, 0.014325277930294936, 0.014304675205097398, 0.014284951625629396, 0.01426602226782684, 0.014247817736429256, 0.014230280825107123, 0.014213363912970775, 0.014197026934548143, 0.014181235796376992, 0.014165961141434237, 0.014151177384487205, 0.014136861958474346, 0.014122994725278263, 0.01410955751457463]\n"
     ]
    }
   ],
   "source": [
    "# Pay attention to the trend of cost. \n",
    "# Is is rising? If it is, why?\n",
    "\n",
    "print(cost_history)"
   ]
  },
  {
   "cell_type": "code",
   "execution_count": 30,
   "metadata": {},
   "outputs": [],
   "source": [
    "# ---------------------------- Please do not modify codes below this line ---------------------------- #"
   ]
  },
  {
   "cell_type": "code",
   "execution_count": 31,
   "metadata": {},
   "outputs": [
    {
     "name": "stdout",
     "output_type": "stream",
     "text": [
      "theta1: -0.2, theta2: 0.5, theta3: 0.5, b: 0.5\n"
     ]
    },
    {
     "data": {
      "image/png": "[encoded data removed]",
      "text/plain": [
       "<Figure size 432x288 with 1 Axes>"
      ]
     },
     "metadata": {
      "needs_background": "light"
     },
     "output_type": "display_data"
    }
   ],
   "source": [
    "theta1 = theta1_history[0]\n",
    "theta2 = theta2_history[0]\n",
    "theta3 = theta3_history[0]\n",
    "b = b_history[0]\n",
    "\n",
    "print(f'theta1: {theta1}, theta2: {theta2}, theta3: {theta3}, b: {b}')\n",
    "\n",
    "x_plot = np.linspace(-0.25, 1.25, 100)\n",
    "y_plot = theta1*(x_plot**3)+theta2*(x_plot**2)+theta3*(x_plot)+b\n",
    "\n",
    "\n",
    "plt.scatter(x_plot, y_plot, color='red')\n",
    "plt.scatter(x, y, color='blue')\n",
    "\n",
    "\n",
    "# show the plot\n",
    "plt.title(\"1 iterations\", color='red', fontdict = {'fontsize': 20})\n",
    "plt.show()"
   ]
  },
  {
   "cell_type": "code",
   "execution_count": 32,
   "metadata": {},
   "outputs": [
    {
     "name": "stdout",
     "output_type": "stream",
     "text": [
      "theta1: -0.2174168238283717, theta2: 0.47242720317203274, theta3: 0.4443269963542847, b: 0.3105518224872341\n"
     ]
    },
    {
     "data": {
      "image/png": "[encoded data removed]",
      "text/plain": [
       "<Figure size 432x288 with 1 Axes>"
      ]
     },
     "metadata": {
      "needs_background": "light"
     },
     "output_type": "display_data"
    }
   ],
   "source": [
    "theta1 = theta1_history[9]\n",
    "theta2 = theta2_history[9]\n",
    "theta3 = theta3_history[9]\n",
    "b = b_history[9]\n",
    "\n",
    "print(f'theta1: {theta1}, theta2: {theta2}, theta3: {theta3}, b: {b}')\n",
    "\n",
    "x_plot = np.linspace(-0.25, 1.25, 100)\n",
    "y_plot = theta1*(x_plot**3)+theta2*(x_plot**2)+theta3*(x_plot)+b\n",
    "\n",
    "\n",
    "plt.scatter(x_plot, y_plot, color='red')\n",
    "plt.scatter(x, y, color='blue')\n",
    "\n",
    "\n",
    "# show the plot\n",
    "plt.title(\"10 iterations\", color='red', fontdict = {'fontsize': 20})\n",
    "plt.show()"
   ]
  },
  {
   "cell_type": "code",
   "execution_count": 33,
   "metadata": {},
   "outputs": [
    {
     "name": "stdout",
     "output_type": "stream",
     "text": [
      "theta1: -0.2170547536988149, theta2: 0.46994924591126713, theta3: 0.4320203576383634, b: 0.2406924551540982\n"
     ]
    },
    {
     "data": {
      "image/png": "[encoded data removed]",
      "text/plain": [
       "<Figure size 432x288 with 1 Axes>"
      ]
     },
     "metadata": {
      "needs_background": "light"
     },
     "output_type": "display_data"
    }
   ],
   "source": [
    "theta1 = theta1_history[19]\n",
    "theta2 = theta2_history[19]\n",
    "theta3 = theta3_history[19]\n",
    "b = b_history[19]\n",
    "\n",
    "print(f'theta1: {theta1}, theta2: {theta2}, theta3: {theta3}, b: {b}')\n",
    "\n",
    "x_plot = np.linspace(-0.25, 1.25, 100)\n",
    "y_plot = theta1*(x_plot**3)+theta2*(x_plot**2)+theta3*(x_plot)+b\n",
    "\n",
    "\n",
    "plt.scatter(x_plot, y_plot, color='red')\n",
    "plt.scatter(x, y, color='blue')\n",
    "\n",
    "\n",
    "# show the plot\n",
    "plt.title(\"20 iterations\", color='red', fontdict = {'fontsize': 20})\n",
    "plt.show()"
   ]
  },
  {
   "cell_type": "code",
   "execution_count": 34,
   "metadata": {},
   "outputs": [],
   "source": [
    "# ---------- Plot the errors over the training process ---------- #"
   ]
  },
  {
   "cell_type": "code",
   "execution_count": 35,
   "metadata": {},
   "outputs": [
    {
     "name": "stdout",
     "output_type": "stream",
     "text": [
      "theta1: -0.2113339672291519, theta2: 0.4754408956694673, theta3: 0.43454803241497614, b: 0.21629527794244238\n"
     ]
    },
    {
     "data": {
      "image/png": "[encoded data removed]",
      "text/plain": [
       "<Figure size 432x288 with 1 Axes>"
      ]
     },
     "metadata": {
      "needs_background": "light"
     },
     "output_type": "display_data"
    }
   ],
   "source": [
    "theta1 = theta1_history[29]\n",
    "theta2 = theta2_history[29]\n",
    "theta3 = theta3_history[29]\n",
    "b = b_history[29]\n",
    "\n",
    "print(f'theta1: {theta1}, theta2: {theta2}, theta3: {theta3}, b: {b}')\n",
    "\n",
    "x_plot = np.linspace(-0.25, 1.25, 100)\n",
    "y_plot = theta1*(x_plot**3)+theta2*(x_plot**2)+theta3*(x_plot)+b\n",
    "\n",
    "\n",
    "plt.scatter(x_plot, y_plot, color='red')\n",
    "plt.scatter(x, y, color='blue')\n",
    "\n",
    "\n",
    "# show the plot\n",
    "plt.title(\"30 iterations\", color='red', fontdict = {'fontsize': 20})\n",
    "plt.show()"
   ]
  },
  {
   "cell_type": "code",
   "execution_count": 36,
   "metadata": {},
   "outputs": [
    {
     "name": "stdout",
     "output_type": "stream",
     "text": [
      "theta1: -0.20488748344270116, theta2: 0.4823375199644718, theta3: 0.44049382670483184, b: 0.20552470783099705\n"
     ]
    },
    {
     "data": {
      "image/png": "[encoded data removed]",
      "text/plain": [
       "<Figure size 432x288 with 1 Axes>"
      ]
     },
     "metadata": {
      "needs_background": "light"
     },
     "output_type": "display_data"
    }
   ],
   "source": [
    "theta1 = theta1_history[39]\n",
    "theta2 = theta2_history[39]\n",
    "theta3 = theta3_history[39]\n",
    "b = b_history[39]\n",
    "\n",
    "print(f'theta1: {theta1}, theta2: {theta2}, theta3: {theta3}, b: {b}')\n",
    "\n",
    "x_plot = np.linspace(-0.25, 1.25, 100)\n",
    "y_plot = theta1*(x_plot**3)+theta2*(x_plot**2)+theta3*(x_plot)+b\n",
    "\n",
    "\n",
    "plt.scatter(x_plot, y_plot, color='red')\n",
    "plt.scatter(x, y, color='blue')\n",
    "\n",
    "\n",
    "# show the plot\n",
    "plt.title(\"40 iterations\", color='red', fontdict = {'fontsize': 20})\n",
    "plt.show()"
   ]
  },
  {
   "cell_type": "code",
   "execution_count": 37,
   "metadata": {},
   "outputs": [
    {
     "data": {
      "image/png": "[encoded data removed]",
      "text/plain": [
       "<Figure size 432x288 with 1 Axes>"
      ]
     },
     "metadata": {
      "needs_background": "light"
     },
     "output_type": "display_data"
    }
   ],
   "source": [
    "cost_x = list(range(len(cost_history)))\n",
    "cost_y = cost_history\n",
    "plt.plot(cost_x, cost_y, 'o-', c='C1', label=r'$\\alpha=$%s'%(alpha))\n",
    "\n",
    "plt.xlabel('Iterations')\n",
    "plt.ylabel('Cost')\n",
    "plt.title(\"Errors over iterations\", color = 'blue')\n",
    "plt.legend(loc='upper right')\n",
    "plt.grid(alpha=0.3)\n",
    "plt.show()"
   ]
  },
  {
   "cell_type": "code",
   "execution_count": null,
   "metadata": {},
   "outputs": [],
   "source": []
  },
  {
   "cell_type": "code",
   "execution_count": 38,
   "metadata": {},
   "outputs": [],
   "source": [
    "def cal_cost(alpha, theta1 = -0.2, theta2 = 0.5, theta3 = 0.5, b = 0.5):\n",
    "    theta1_history = []\n",
    "    theta2_history = []\n",
    "    theta3_history = []\n",
    "    b_history = []\n",
    "    cost_history = []\n",
    "    for i in range(50):\n",
    "        theta1_history.append(theta1)\n",
    "        theta2_history.append(theta2)\n",
    "        theta3_history.append(theta3)\n",
    "        b_history.append(b)\n",
    "        cost = cost_function(theta1, theta2, theta3, b, x, y)\n",
    "        cost_history.append(cost)\n",
    "\n",
    "        # Steeptest decscent\n",
    "        temp_theta1 = theta1\n",
    "        temp_theta2 = theta2\n",
    "        temp_theta3 = theta3\n",
    "        temp_b = b\n",
    "\n",
    "        theta1 = temp_theta1- alpha*dJ_dtheta1(temp_theta1, temp_theta2, temp_theta3, temp_b, x, y)\n",
    "        theta2 = temp_theta2- alpha*dJ_dtheta2(temp_theta1, temp_theta2, temp_theta3, temp_b, x, y)\n",
    "        theta3 = temp_theta3- alpha*dJ_dtheta3(temp_theta1, temp_theta2, temp_theta3, temp_b, x, y)\n",
    "        b = temp_b- alpha*dJ_db(temp_theta1, temp_theta2, temp_theta3, temp_b, x, y)\n",
    "        \n",
    "    return cost_history"
   ]
  },
  {
   "cell_type": "code",
   "execution_count": 39,
   "metadata": {},
   "outputs": [
    {
     "data": {
      "image/png": "[encoded data removed]",
      "text/plain": [
       "<Figure size 432x288 with 1 Axes>"
      ]
     },
     "metadata": {
      "needs_background": "light"
     },
     "output_type": "display_data"
    }
   ],
   "source": [
    "alpha_lst = [0.2, 0.1, 0.01, 0.001]\n",
    "for alpha in alpha_lst:\n",
    "    cost_history = cal_cost(alpha)\n",
    "    cost_x = list(range(len(cost_history)))\n",
    "    cost_y = cost_history   \n",
    "    plt.plot(cost_x, cost_y, 'o-', label=r'$\\alpha=$%s'%(alpha), alpha=0.8)\n",
    "plt.xlabel('Iterations')\n",
    "plt.ylabel('Cost')\n",
    "plt.title(\"Errors over iterations\", color = 'blue')\n",
    "plt.legend(loc='upper right')\n",
    "plt.grid(alpha=0.3)\n",
    "plt.show()"
   ]
  },
  {
   "cell_type": "code",
   "execution_count": null,
   "metadata": {},
   "outputs": [],
   "source": []
  }
 ],
 "metadata": {
  "kernelspec": {
   "display_name": "Python 3",
   "language": "python",
   "name": "python3"
  },
  "language_info": {
   "codemirror_mode": {
    "name": "ipython",
    "version": 3
   },
   "file_extension": ".py",
   "mimetype": "text/x-python",
   "name": "python",
   "nbconvert_exporter": "python",
   "pygments_lexer": "ipython3",
   "version": "3.7.9"
  }
 },
 "nbformat": 4,
 "nbformat_minor": 4
}
